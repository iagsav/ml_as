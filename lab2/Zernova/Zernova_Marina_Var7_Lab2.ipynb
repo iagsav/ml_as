{
 "cells": [
  {
   "cell_type": "markdown",
   "metadata": {},
   "source": [
    "# Лабораторная работа №2\n",
    "## Зернова Марина\n",
    "## 15-АС\n",
    "## Вариант 7 (Mushrooms)\n",
    "## Классификаторы: \n",
    "### 2 – классификатор K ближайших соседей (задаётся радиус для выбора ближайших объектов);\n",
    "### 3 – линейный классификатор (персептрон).\n",
    "\n",
    "### Цель лабораторной работы – получение навыков работы с методами классификации."
   ]
  },
  {
   "cell_type": "code",
   "execution_count": 9,
   "metadata": {
    "collapsed": true
   },
   "outputs": [],
   "source": [
    "import pandas as pd\n",
    "import numpy as np\n",
    "import seaborn as sns\n",
    "import sklearn as sk\n",
    "import matplotlib.pyplot as plt\n",
    "\n",
    "import warnings\n",
    "warnings.filterwarnings(\"ignore\")\n",
    "from scipy import interp\n",
    "from sklearn.grid_search import GridSearchCV\n",
    "from sklearn.preprocessing import MinMaxScaler\n",
    "from sklearn.tree import DecisionTreeClassifier\n",
    "from sklearn.model_selection import StratifiedKFold\n",
    "from sklearn.neighbors import KNeighborsClassifier\n",
    "from sklearn.model_selection import train_test_split, cross_val_score\n",
    "from sklearn.metrics import (auc, roc_curve, \n",
    "                             precision_recall_curve, \n",
    "                             average_precision_score)\n",
    "\n",
    "from sklearn import datasets\n",
    "from sklearn.linear_model import perceptron\n",
    "from sklearn.preprocessing import LabelEncoder\n",
    "from sklearn import neighbors\n",
    "from sklearn.cross_validation import train_test_split\n",
    "from sklearn.model_selection import cross_val_score\n",
    "from sklearn.preprocessing import LabelEncoder, OneHotEncoder\n",
    "from sklearn.linear_model import LogisticRegression\n",
    "from sklearn.ensemble import RandomForestClassifier, GradientBoostingClassifier\n",
    "from sklearn.metrics import precision_recall_curve, classification_report\n",
    "from sklearn.model_selection import train_test_split\n",
    "from sklearn.metrics import roc_curve, auc\n",
    "from sklearn.neighbors import RadiusNeighborsClassifier\n",
    "from sklearn.calibration import CalibratedClassifierCV\n",
    "from matplotlib.pylab import rc, plot\n",
    "\n",
    "df = pd.read_csv('mushrooms.csv')"
   ]
  },
  {
   "cell_type": "markdown",
   "metadata": {},
   "source": [
    "### 1.\tИзучить набор данных. Создать описание набора данных на русском языке. Описать признаки, используемые в наборе данных\n",
    "\n",
    "Этот набор данных включает описания гипотетических образцов, соответствующих 23 видам грибов в семействе грибов Agaricus и Lepiota, взятых из «Справочника сообщества Одубон» по североамериканским грибам (1981). Каждый вид идентифицируется как определенно съедобный, определенно ядовитый или неизвестной съедобности. Этот последний класс был объединен с ядовитым. В Руководстве четко указано, что нет простого правила для определения съедобности гриба; нет такого правила, как «leaflets three, let it be» для ядовитого дуба и плюща.\n",
    "\n",
    "Информация об атрибутах: (classes: съедобный = e, ядовитый = p)\n",
    "\n",
    "cap-shap: Форма шляпки   \n",
    "cap-surface: Поверхность шляпки   \n",
    "cap-color: Цвет шляпки   \n",
    "bruises: Пятна   \n",
    "odor: Запах   \n",
    "gill-attachment: Форма пластинок (ламел)  \n",
    "gill-spacing: Расстояние между пластинками   \n",
    "gill-size: Размер пластинок  \n",
    "gill-color: Цвет пластинок   \n",
    "stalk-shape: Форма ножки   \n",
    "stalk-root: Корень   \n",
    "stalk-surface-above-ring: Форма ножки выше юбки   \n",
    "stalk-surface-below-ring: Форма ножки ниже юбки   \n",
    "stalk-color-above-ring: Цвет ножки выше юбки   \n",
    "stalk-color-below-ring: Цвет ножки ниже юбки   \n",
    "veil-type: Форма юбочки   \n",
    "veil-color: Цвет юбочки    \n",
    "ring-number: Количество колец   \n",
    "ring-type: Тип кольца   \n",
    "spore-print-color: Цвет спор   \n",
    "population: Популяция   \n",
    "habitat: Среда обитания  \n",
    "\n",
    "### 2. Удалите дубликаты строк в наборе данных."
   ]
  },
  {
   "cell_type": "code",
   "execution_count": 10,
   "metadata": {},
   "outputs": [
    {
     "data": {
      "text/plain": [
       "(8124, 23)"
      ]
     },
     "execution_count": 10,
     "metadata": {},
     "output_type": "execute_result"
    }
   ],
   "source": [
    "df.shape"
   ]
  },
  {
   "cell_type": "code",
   "execution_count": 11,
   "metadata": {},
   "outputs": [
    {
     "data": {
      "text/plain": [
       "(8124, 23)"
      ]
     },
     "execution_count": 11,
     "metadata": {},
     "output_type": "execute_result"
    }
   ],
   "source": [
    "df = df.drop_duplicates()\n",
    "df = df.dropna()\n",
    "df = df.reset_index(drop=True)\n",
    "df.shape"
   ]
  },
  {
   "cell_type": "code",
   "execution_count": 12,
   "metadata": {},
   "outputs": [
    {
     "data": {
      "text/html": [
       "<div>\n",
       "<style>\n",
       "    .dataframe thead tr:only-child th {\n",
       "        text-align: right;\n",
       "    }\n",
       "\n",
       "    .dataframe thead th {\n",
       "        text-align: left;\n",
       "    }\n",
       "\n",
       "    .dataframe tbody tr th {\n",
       "        vertical-align: top;\n",
       "    }\n",
       "</style>\n",
       "<table border=\"1\" class=\"dataframe\">\n",
       "  <thead>\n",
       "    <tr style=\"text-align: right;\">\n",
       "      <th></th>\n",
       "      <th>class</th>\n",
       "      <th>cap-shape</th>\n",
       "      <th>cap-surface</th>\n",
       "      <th>cap-color</th>\n",
       "      <th>bruises</th>\n",
       "      <th>odor</th>\n",
       "      <th>gill-attachment</th>\n",
       "      <th>gill-spacing</th>\n",
       "      <th>gill-size</th>\n",
       "      <th>gill-color</th>\n",
       "      <th>...</th>\n",
       "      <th>stalk-surface-below-ring</th>\n",
       "      <th>stalk-color-above-ring</th>\n",
       "      <th>stalk-color-below-ring</th>\n",
       "      <th>veil-type</th>\n",
       "      <th>veil-color</th>\n",
       "      <th>ring-number</th>\n",
       "      <th>ring-type</th>\n",
       "      <th>spore-print-color</th>\n",
       "      <th>population</th>\n",
       "      <th>habitat</th>\n",
       "    </tr>\n",
       "  </thead>\n",
       "  <tbody>\n",
       "    <tr>\n",
       "      <th>0</th>\n",
       "      <td>p</td>\n",
       "      <td>x</td>\n",
       "      <td>s</td>\n",
       "      <td>n</td>\n",
       "      <td>t</td>\n",
       "      <td>p</td>\n",
       "      <td>f</td>\n",
       "      <td>c</td>\n",
       "      <td>n</td>\n",
       "      <td>k</td>\n",
       "      <td>...</td>\n",
       "      <td>s</td>\n",
       "      <td>w</td>\n",
       "      <td>w</td>\n",
       "      <td>p</td>\n",
       "      <td>w</td>\n",
       "      <td>o</td>\n",
       "      <td>p</td>\n",
       "      <td>k</td>\n",
       "      <td>s</td>\n",
       "      <td>u</td>\n",
       "    </tr>\n",
       "    <tr>\n",
       "      <th>1</th>\n",
       "      <td>e</td>\n",
       "      <td>x</td>\n",
       "      <td>s</td>\n",
       "      <td>y</td>\n",
       "      <td>t</td>\n",
       "      <td>a</td>\n",
       "      <td>f</td>\n",
       "      <td>c</td>\n",
       "      <td>b</td>\n",
       "      <td>k</td>\n",
       "      <td>...</td>\n",
       "      <td>s</td>\n",
       "      <td>w</td>\n",
       "      <td>w</td>\n",
       "      <td>p</td>\n",
       "      <td>w</td>\n",
       "      <td>o</td>\n",
       "      <td>p</td>\n",
       "      <td>n</td>\n",
       "      <td>n</td>\n",
       "      <td>g</td>\n",
       "    </tr>\n",
       "    <tr>\n",
       "      <th>2</th>\n",
       "      <td>e</td>\n",
       "      <td>b</td>\n",
       "      <td>s</td>\n",
       "      <td>w</td>\n",
       "      <td>t</td>\n",
       "      <td>l</td>\n",
       "      <td>f</td>\n",
       "      <td>c</td>\n",
       "      <td>b</td>\n",
       "      <td>n</td>\n",
       "      <td>...</td>\n",
       "      <td>s</td>\n",
       "      <td>w</td>\n",
       "      <td>w</td>\n",
       "      <td>p</td>\n",
       "      <td>w</td>\n",
       "      <td>o</td>\n",
       "      <td>p</td>\n",
       "      <td>n</td>\n",
       "      <td>n</td>\n",
       "      <td>m</td>\n",
       "    </tr>\n",
       "    <tr>\n",
       "      <th>3</th>\n",
       "      <td>p</td>\n",
       "      <td>x</td>\n",
       "      <td>y</td>\n",
       "      <td>w</td>\n",
       "      <td>t</td>\n",
       "      <td>p</td>\n",
       "      <td>f</td>\n",
       "      <td>c</td>\n",
       "      <td>n</td>\n",
       "      <td>n</td>\n",
       "      <td>...</td>\n",
       "      <td>s</td>\n",
       "      <td>w</td>\n",
       "      <td>w</td>\n",
       "      <td>p</td>\n",
       "      <td>w</td>\n",
       "      <td>o</td>\n",
       "      <td>p</td>\n",
       "      <td>k</td>\n",
       "      <td>s</td>\n",
       "      <td>u</td>\n",
       "    </tr>\n",
       "    <tr>\n",
       "      <th>4</th>\n",
       "      <td>e</td>\n",
       "      <td>x</td>\n",
       "      <td>s</td>\n",
       "      <td>g</td>\n",
       "      <td>f</td>\n",
       "      <td>n</td>\n",
       "      <td>f</td>\n",
       "      <td>w</td>\n",
       "      <td>b</td>\n",
       "      <td>k</td>\n",
       "      <td>...</td>\n",
       "      <td>s</td>\n",
       "      <td>w</td>\n",
       "      <td>w</td>\n",
       "      <td>p</td>\n",
       "      <td>w</td>\n",
       "      <td>o</td>\n",
       "      <td>e</td>\n",
       "      <td>n</td>\n",
       "      <td>a</td>\n",
       "      <td>g</td>\n",
       "    </tr>\n",
       "  </tbody>\n",
       "</table>\n",
       "<p>5 rows × 23 columns</p>\n",
       "</div>"
      ],
      "text/plain": [
       "  class cap-shape cap-surface cap-color bruises odor gill-attachment  \\\n",
       "0     p         x           s         n       t    p               f   \n",
       "1     e         x           s         y       t    a               f   \n",
       "2     e         b           s         w       t    l               f   \n",
       "3     p         x           y         w       t    p               f   \n",
       "4     e         x           s         g       f    n               f   \n",
       "\n",
       "  gill-spacing gill-size gill-color   ...   stalk-surface-below-ring  \\\n",
       "0            c         n          k   ...                          s   \n",
       "1            c         b          k   ...                          s   \n",
       "2            c         b          n   ...                          s   \n",
       "3            c         n          n   ...                          s   \n",
       "4            w         b          k   ...                          s   \n",
       "\n",
       "  stalk-color-above-ring stalk-color-below-ring veil-type veil-color  \\\n",
       "0                      w                      w         p          w   \n",
       "1                      w                      w         p          w   \n",
       "2                      w                      w         p          w   \n",
       "3                      w                      w         p          w   \n",
       "4                      w                      w         p          w   \n",
       "\n",
       "  ring-number ring-type spore-print-color population habitat  \n",
       "0           o         p                 k          s       u  \n",
       "1           o         p                 n          n       g  \n",
       "2           o         p                 n          n       m  \n",
       "3           o         p                 k          s       u  \n",
       "4           o         e                 n          a       g  \n",
       "\n",
       "[5 rows x 23 columns]"
      ]
     },
     "execution_count": 12,
     "metadata": {},
     "output_type": "execute_result"
    }
   ],
   "source": [
    "df.head()"
   ]
  },
  {
   "cell_type": "markdown",
   "metadata": {},
   "source": [
    "### 3.\tОцените сбалансированность данных по классам. Используйте полученную информацию при выборе метрики оценки качества классификации"
   ]
  },
  {
   "cell_type": "code",
   "execution_count": 13,
   "metadata": {},
   "outputs": [
    {
     "data": {
      "image/png": "[encoded data removed]",
      "text/plain": [
       "<matplotlib.figure.Figure at 0x1eed5c2d550>"
      ]
     },
     "metadata": {},
     "output_type": "display_data"
    }
   ],
   "source": [
    "df['class'].value_counts().plot.barh()\n",
    "plt.show()"
   ]
  },
  {
   "cell_type": "markdown",
   "metadata": {},
   "source": [
    "#### Классы сбалансированы\n",
    "\n",
    "### 4.\tВыполните масштабирование количественных признаков\n",
    "Масштабирование не требуется \n",
    "\n"
   ]
  },
  {
   "cell_type": "markdown",
   "metadata": {},
   "source": [
    "### 5.\tВыполните замену категориальных признаков"
   ]
  },
  {
   "cell_type": "code",
   "execution_count": 14,
   "metadata": {},
   "outputs": [
    {
     "data": {
      "text/plain": [
       "class                        2\n",
       "cap-shape                    6\n",
       "cap-surface                  4\n",
       "cap-color                   10\n",
       "bruises                      2\n",
       "odor                         9\n",
       "gill-attachment              2\n",
       "gill-spacing                 2\n",
       "gill-size                    2\n",
       "gill-color                  12\n",
       "stalk-shape                  2\n",
       "stalk-root                   5\n",
       "stalk-surface-above-ring     4\n",
       "stalk-surface-below-ring     4\n",
       "stalk-color-above-ring       9\n",
       "stalk-color-below-ring       9\n",
       "veil-type                    1\n",
       "veil-color                   4\n",
       "ring-number                  3\n",
       "ring-type                    5\n",
       "spore-print-color            9\n",
       "population                   6\n",
       "habitat                      7\n",
       "dtype: int64"
      ]
     },
     "execution_count": 14,
     "metadata": {},
     "output_type": "execute_result"
    }
   ],
   "source": [
    "df.nunique()"
   ]
  },
  {
   "cell_type": "code",
   "execution_count": 15,
   "metadata": {},
   "outputs": [
    {
     "name": "stdout",
     "output_type": "stream",
     "text": [
      "{0: 'f', 1: 't'}\n"
     ]
    }
   ],
   "source": [
    "df.drop('veil-type', axis = 1, inplace = True)\n",
    "label_encoder = LabelEncoder()\n",
    "mapped_education = pd.Series(label_encoder.fit_transform(df['bruises']))\n",
    "mapped_education.value_counts().plot.barh()\n",
    "print(dict(enumerate(label_encoder.classes_)))"
   ]
  },
  {
   "cell_type": "code",
   "execution_count": 16,
   "metadata": {},
   "outputs": [
    {
     "data": {
      "text/html": [
       "<div>\n",
       "<style>\n",
       "    .dataframe thead tr:only-child th {\n",
       "        text-align: right;\n",
       "    }\n",
       "\n",
       "    .dataframe thead th {\n",
       "        text-align: left;\n",
       "    }\n",
       "\n",
       "    .dataframe tbody tr th {\n",
       "        vertical-align: top;\n",
       "    }\n",
       "</style>\n",
       "<table border=\"1\" class=\"dataframe\">\n",
       "  <thead>\n",
       "    <tr style=\"text-align: right;\">\n",
       "      <th></th>\n",
       "      <th>class</th>\n",
       "      <th>cap-shape</th>\n",
       "      <th>cap-surface</th>\n",
       "      <th>cap-color</th>\n",
       "      <th>bruises</th>\n",
       "      <th>odor</th>\n",
       "      <th>gill-attachment</th>\n",
       "      <th>gill-spacing</th>\n",
       "      <th>gill-size</th>\n",
       "      <th>gill-color</th>\n",
       "      <th>...</th>\n",
       "      <th>stalk-surface-above-ring</th>\n",
       "      <th>stalk-surface-below-ring</th>\n",
       "      <th>stalk-color-above-ring</th>\n",
       "      <th>stalk-color-below-ring</th>\n",
       "      <th>veil-color</th>\n",
       "      <th>ring-number</th>\n",
       "      <th>ring-type</th>\n",
       "      <th>spore-print-color</th>\n",
       "      <th>population</th>\n",
       "      <th>habitat</th>\n",
       "    </tr>\n",
       "  </thead>\n",
       "  <tbody>\n",
       "    <tr>\n",
       "      <th>0</th>\n",
       "      <td>1</td>\n",
       "      <td>5</td>\n",
       "      <td>2</td>\n",
       "      <td>4</td>\n",
       "      <td>1</td>\n",
       "      <td>6</td>\n",
       "      <td>1</td>\n",
       "      <td>0</td>\n",
       "      <td>1</td>\n",
       "      <td>4</td>\n",
       "      <td>...</td>\n",
       "      <td>2</td>\n",
       "      <td>2</td>\n",
       "      <td>7</td>\n",
       "      <td>7</td>\n",
       "      <td>2</td>\n",
       "      <td>1</td>\n",
       "      <td>4</td>\n",
       "      <td>2</td>\n",
       "      <td>3</td>\n",
       "      <td>5</td>\n",
       "    </tr>\n",
       "    <tr>\n",
       "      <th>1</th>\n",
       "      <td>0</td>\n",
       "      <td>5</td>\n",
       "      <td>2</td>\n",
       "      <td>9</td>\n",
       "      <td>1</td>\n",
       "      <td>0</td>\n",
       "      <td>1</td>\n",
       "      <td>0</td>\n",
       "      <td>0</td>\n",
       "      <td>4</td>\n",
       "      <td>...</td>\n",
       "      <td>2</td>\n",
       "      <td>2</td>\n",
       "      <td>7</td>\n",
       "      <td>7</td>\n",
       "      <td>2</td>\n",
       "      <td>1</td>\n",
       "      <td>4</td>\n",
       "      <td>3</td>\n",
       "      <td>2</td>\n",
       "      <td>1</td>\n",
       "    </tr>\n",
       "    <tr>\n",
       "      <th>2</th>\n",
       "      <td>0</td>\n",
       "      <td>0</td>\n",
       "      <td>2</td>\n",
       "      <td>8</td>\n",
       "      <td>1</td>\n",
       "      <td>3</td>\n",
       "      <td>1</td>\n",
       "      <td>0</td>\n",
       "      <td>0</td>\n",
       "      <td>5</td>\n",
       "      <td>...</td>\n",
       "      <td>2</td>\n",
       "      <td>2</td>\n",
       "      <td>7</td>\n",
       "      <td>7</td>\n",
       "      <td>2</td>\n",
       "      <td>1</td>\n",
       "      <td>4</td>\n",
       "      <td>3</td>\n",
       "      <td>2</td>\n",
       "      <td>3</td>\n",
       "    </tr>\n",
       "    <tr>\n",
       "      <th>3</th>\n",
       "      <td>1</td>\n",
       "      <td>5</td>\n",
       "      <td>3</td>\n",
       "      <td>8</td>\n",
       "      <td>1</td>\n",
       "      <td>6</td>\n",
       "      <td>1</td>\n",
       "      <td>0</td>\n",
       "      <td>1</td>\n",
       "      <td>5</td>\n",
       "      <td>...</td>\n",
       "      <td>2</td>\n",
       "      <td>2</td>\n",
       "      <td>7</td>\n",
       "      <td>7</td>\n",
       "      <td>2</td>\n",
       "      <td>1</td>\n",
       "      <td>4</td>\n",
       "      <td>2</td>\n",
       "      <td>3</td>\n",
       "      <td>5</td>\n",
       "    </tr>\n",
       "    <tr>\n",
       "      <th>4</th>\n",
       "      <td>0</td>\n",
       "      <td>5</td>\n",
       "      <td>2</td>\n",
       "      <td>3</td>\n",
       "      <td>0</td>\n",
       "      <td>5</td>\n",
       "      <td>1</td>\n",
       "      <td>1</td>\n",
       "      <td>0</td>\n",
       "      <td>4</td>\n",
       "      <td>...</td>\n",
       "      <td>2</td>\n",
       "      <td>2</td>\n",
       "      <td>7</td>\n",
       "      <td>7</td>\n",
       "      <td>2</td>\n",
       "      <td>1</td>\n",
       "      <td>0</td>\n",
       "      <td>3</td>\n",
       "      <td>0</td>\n",
       "      <td>1</td>\n",
       "    </tr>\n",
       "  </tbody>\n",
       "</table>\n",
       "<p>5 rows × 22 columns</p>\n",
       "</div>"
      ],
      "text/plain": [
       "   class  cap-shape  cap-surface  cap-color  bruises  odor  gill-attachment  \\\n",
       "0      1          5            2          4        1     6                1   \n",
       "1      0          5            2          9        1     0                1   \n",
       "2      0          0            2          8        1     3                1   \n",
       "3      1          5            3          8        1     6                1   \n",
       "4      0          5            2          3        0     5                1   \n",
       "\n",
       "   gill-spacing  gill-size  gill-color   ...     stalk-surface-above-ring  \\\n",
       "0             0          1           4   ...                            2   \n",
       "1             0          0           4   ...                            2   \n",
       "2             0          0           5   ...                            2   \n",
       "3             0          1           5   ...                            2   \n",
       "4             1          0           4   ...                            2   \n",
       "\n",
       "   stalk-surface-below-ring  stalk-color-above-ring  stalk-color-below-ring  \\\n",
       "0                         2                       7                       7   \n",
       "1                         2                       7                       7   \n",
       "2                         2                       7                       7   \n",
       "3                         2                       7                       7   \n",
       "4                         2                       7                       7   \n",
       "\n",
       "   veil-color  ring-number  ring-type  spore-print-color  population  habitat  \n",
       "0           2            1          4                  2           3        5  \n",
       "1           2            1          4                  3           2        1  \n",
       "2           2            1          4                  3           2        3  \n",
       "3           2            1          4                  2           3        5  \n",
       "4           2            1          0                  3           0        1  \n",
       "\n",
       "[5 rows x 22 columns]"
      ]
     },
     "execution_count": 16,
     "metadata": {},
     "output_type": "execute_result"
    }
   ],
   "source": [
    "categorical_columns = df.columns[df.dtypes == 'object'].union(['bruises'])\n",
    "for column in categorical_columns:\n",
    "    df[column] = label_encoder.fit_transform(df[column])\n",
    "df.head()"
   ]
  },
  {
   "cell_type": "markdown",
   "metadata": {},
   "source": [
    "### 6.\tОцените корреляцию между признаками и удалите те признаки, которые коррелируют с наибольшим числом других"
   ]
  },
  {
   "cell_type": "code",
   "execution_count": 17,
   "metadata": {},
   "outputs": [
    {
     "data": {
      "image/png": "[encoded data removed]",
      "text/plain": [
       "<matplotlib.figure.Figure at 0x1eed5e9db38>"
      ]
     },
     "metadata": {},
     "output_type": "display_data"
    }
   ],
   "source": [
    "corr_matrix = df.drop('class', axis=1).corr()\n",
    "sns.heatmap(corr_matrix);\n",
    "plt.show()"
   ]
  },
  {
   "cell_type": "code",
   "execution_count": 18,
   "metadata": {},
   "outputs": [
    {
     "ename": "NameError",
     "evalue": "name 'df_corr' is not defined",
     "output_type": "error",
     "traceback": [
      "\u001b[1;31m---------------------------------------------------------------------------\u001b[0m",
      "\u001b[1;31mNameError\u001b[0m                                 Traceback (most recent call last)",
      "\u001b[1;32m<ipython-input-18-468f4e90c0ea>\u001b[0m in \u001b[0;36m<module>\u001b[1;34m()\u001b[0m\n\u001b[1;32m----> 1\u001b[1;33m \u001b[0mdf_corr\u001b[0m\u001b[1;33m\u001b[0m\u001b[0m\n\u001b[0m",
      "\u001b[1;31mNameError\u001b[0m: name 'df_corr' is not defined"
     ]
    }
   ],
   "source": [
    "df_corr"
   ]
  },
  {
   "cell_type": "markdown",
   "metadata": {},
   "source": [
    "### 7.\tЗаполните пропущенные значения в данных\n",
    "Не требуется\n",
    "\n",
    "### 8.\tРешите поставленную задачу классификации в соответствии с заданием"
   ]
  },
  {
   "cell_type": "code",
   "execution_count": 42,
   "metadata": {},
   "outputs": [
    {
     "name": "stdout",
     "output_type": "stream",
     "text": [
      "(5686, 21)\n",
      "(2438, 21)\n"
     ]
    }
   ],
   "source": [
    "# делим данные для обучения и теста\n",
    "X, y = df.drop('class', axis=1), df['class']\n",
    "X_train, X_test, y_train, y_test = train_test_split(X, y, test_size = 0.3, random_state = 123)\n",
    "\n",
    "print(X_train.shape)\n",
    "print(X_test.shape)"
   ]
  },
  {
   "cell_type": "code",
   "execution_count": 43,
   "metadata": {},
   "outputs": [
    {
     "name": "stdout",
     "output_type": "stream",
     "text": [
      "best train score: 0.9950756243404854 \t at radius: 3.0\n",
      "test score:  0.996308449549\n"
     ]
    }
   ],
   "source": [
    "# k ближайших соседей\n",
    "rnc = RadiusNeighborsClassifier(outlier_label=1)\n",
    "\n",
    "params = {'radius': np.arange(0, 5, 0.25)}\n",
    "\n",
    "rnc_grid = GridSearchCV(rnc, params)\n",
    "rnc_grid.fit(X_train, y_train)\n",
    "\n",
    "best_radius = rnc_grid.best_estimator_.radius\n",
    "best_score = rnc_grid.best_score_\n",
    "print('best train score:', best_score, '\\t at radius:', best_radius)\n",
    "\n",
    "rnc = RadiusNeighborsClassifier(outlier_label=1, radius=best_radius)\n",
    "rnc.fit(X_train, y_train)\n",
    "best_score  = np.mean(y_test  == rnc.predict(X_test))\n",
    "print('test score: ', best_score)"
   ]
  },
  {
   "cell_type": "code",
   "execution_count": 44,
   "metadata": {},
   "outputs": [
    {
     "name": "stdout",
     "output_type": "stream",
     "text": [
      "best score= 0.8844530425606754 at alpha 0.105263157895\n",
      "test score:  0.676784249385\n"
     ]
    }
   ],
   "source": [
    "# персептрон\n",
    "slf = sk.linear_model.Perceptron()\n",
    "paramsearch = GridSearchCV(estimator=slf, param_grid=dict(alpha=np.linspace(0,2,20)[1:],n_iter=[int(50)]), n_jobs=int(10))\n",
    "paramsearch.fit(X_train, y_train)\n",
    "best_score = paramsearch.best_score_\n",
    "selected_alpha = paramsearch.best_estimator_.alpha\n",
    "print('best score=',best_score,'at alpha',selected_alpha)\n",
    "best_n_iter = paramsearch.best_estimator_.n_iter\n",
    "best_n_jobs = paramsearch.best_estimator_.n_jobs\n",
    "\n",
    "dtc = sk.linear_model.Perceptron(alpha=selected_alpha,n_iter=best_n_iter,n_jobs=best_n_jobs)\n",
    "dtc.fit(X_train, y_train)\n",
    "test_score  = np.mean(y_test == dtc.predict(X_test))\n",
    "print('test score: ', test_score)"
   ]
  },
  {
   "cell_type": "code",
   "execution_count": 45,
   "metadata": {
    "collapsed": true
   },
   "outputs": [],
   "source": [
    "class CustomClassifier(RadiusNeighborsClassifier):\n",
    "        \n",
    "    def predict_proba(self, X_test, X_train, y_train):\n",
    "        '''\n",
    "        Общее описание.\n",
    "         Определяет вероятность того, что тестовый экземпляр соответствует классу.\n",
    "        \n",
    "         Алгоритм.\n",
    "         Мы пройдем нулевой радиус до радиуса двойного классификатора\n",
    "         с элементарным шагом (dr). Если экземпляр находится вдоль:\n",
    "         * Zero raduis + dr - соответствует 100%\n",
    "         * Классификатор raduis + dr - соответствует 50%\n",
    "         * Двойной классификатор raduis + dr и за его пределами - соответствует 0%\n",
    "         Имеются промежуточные значения процентов. Каждый шаг соответствует своему\n",
    "         собственному процентному(от всей величины) значению. Если предсказанный экземпляр меняет\n",
    "         класс, этот экземпляр принадлежит текущему радиусу.\n",
    "        \n",
    "        '''\n",
    "        runs = 25\n",
    "        dr = (2*self.radius/runs)\n",
    "        \n",
    "        radiuses = [dr*i for i in range(runs)]  \n",
    "        percentage = [i/runs for i in range(runs)]\n",
    "        percentage = sorted(percentage, reverse=True)\n",
    "        probas = np.ndarray((len(y_test),2), dtype=np.float)\n",
    "        for i in range(len(probas)):\n",
    "            probas[i] = [0, 1]\n",
    "        \n",
    "        for i, radius in enumerate(radiuses):\n",
    "            if i==0:\n",
    "                rnc_temp = RadiusNeighborsClassifier(radius, outlier_label=1)\n",
    "                predict_first = rnc_temp.fit(X_train, y_train).predict(X_test)\n",
    "                continue\n",
    "            else:\n",
    "                predict_second = predict_first\n",
    "                rnc_tmp = RadiusNeighborsClassifier(radius, outlier_label=1)\n",
    "                predict_first = rnc_tmp.fit(X_train, y_train).predict(X_test)\n",
    "        \n",
    "            for j, (p1, p2) in enumerate(zip(predict_first, predict_second)):\n",
    "                if p1!=p2:\n",
    "                    probas[j,0] = percentage[i]\n",
    "                    probas[j,1] = 1-probas[j,0]\n",
    "                \n",
    "        return probas"
   ]
  },
  {
   "cell_type": "code",
   "execution_count": 46,
   "metadata": {},
   "outputs": [
    {
     "data": {
      "image/png": "[encoded data removed]",
      "text/plain": [
       "<matplotlib.figure.Figure at 0x2532afc2668>"
      ]
     },
     "metadata": {},
     "output_type": "display_data"
    },
    {
     "data": {
      "image/png": "[encoded data removed]",
      "text/plain": [
       "<matplotlib.figure.Figure at 0x253255d4828>"
      ]
     },
     "metadata": {},
     "output_type": "display_data"
    }
   ],
   "source": [
    "clf_isotonic = CalibratedClassifierCV(slf, cv=10, method='isotonic')\n",
    "clf_isotonic.fit(X_train, y_train)\n",
    "probas_slf0 = clf_isotonic.predict_proba(X_test)\n",
    "clf_isotonic.fit(X_train, y_train)\n",
    "probas_slf1 = clf_isotonic.predict_proba(X_test)\n",
    "\n",
    "#ROC графики\n",
    "plt.figure(figsize=(10,8))\n",
    "# K соседей\n",
    "mrnc = CustomClassifier(outlier_label=1, radius=best_radius)\n",
    "probas_mrnc0 = mrnc.predict_proba(X_test, X_train, y_train)\n",
    "tpr, fpr, thresholds = roc_curve(y_test, probas_mrnc0[:,0])\n",
    "roc_auc  = auc(fpr, tpr)\n",
    "plt.plot(fpr, tpr, label='%s ROC (area = %f)' % ('RadiusNeighborsClassifier', roc_auc))\n",
    "# Персептрон\n",
    "tpr, fpr, thresholds = roc_curve(y_test, probas_slf0[:,0])\n",
    "roc_auc  = auc(fpr, tpr)\n",
    "plt.plot(fpr, tpr, label='%s ROC (area = %f)' % ('PerceptronClassifier', roc_auc))\n",
    "# вывод графика\n",
    "plt.plot([0, 1], [0, 1], 'k--')\n",
    "plt.xlim([0.0, 1.0])\n",
    "plt.ylim([0.0, 1.0])\n",
    "plt.xlabel('False Positive Rate')\n",
    "plt.ylabel('True Positive Rate')\n",
    "plt.legend(loc=4, fontsize='medium')\n",
    "plt.title('class')\n",
    "plt.show()\n",
    "\n",
    "plt.figure(figsize=(10,8))\n",
    "# K соседей\n",
    "probas_mrnc1 = mrnc.predict_proba(X_test, X_train, y_train)\n",
    "fpr, tpr, thresholds = roc_curve(y_test, probas_mrnc1[:,1])\n",
    "roc_auc  = auc(fpr, tpr)\n",
    "plt.plot(fpr, tpr, label='%s ROC (area = %f)' % ('RadiusNeighborsClassifier', roc_auc))\n",
    "# Персептрон\n",
    "fpr, tpr, thresholds = roc_curve(y_test, probas_slf1[:,1])\n",
    "roc_auc  = auc(fpr, tpr)\n",
    "plt.plot(fpr, tpr, label='%s ROC (area = %f)' % ('PerceptronClassifier', roc_auc))   \n",
    "\n",
    "# вывод графика\n",
    "plt.plot([0, 1], [0, 1], 'k--')\n",
    "plt.xlim([0.0, 1.0])\n",
    "plt.ylim([0.0, 1.0])\n",
    "plt.xlabel('False Positive Rate')\n",
    "plt.ylabel('True Positive Rate')\n",
    "plt.legend(loc=4, fontsize='medium')\n",
    "plt.title('class')\n",
    "plt.show()"
   ]
  },
  {
   "cell_type": "code",
   "execution_count": 47,
   "metadata": {},
   "outputs": [
    {
     "data": {
      "image/png": "[encoded data removed]",
      "text/plain": [
       "<matplotlib.figure.Figure at 0x2532ae58978>"
      ]
     },
     "metadata": {},
     "output_type": "display_data"
    },
    {
     "data": {
      "image/png": "[encoded data removed]",
      "text/plain": [
       "<matplotlib.figure.Figure at 0x25329349a58>"
      ]
     },
     "metadata": {},
     "output_type": "display_data"
    }
   ],
   "source": [
    "#PR графики\n",
    "plt.figure(figsize=(10,8))\n",
    "y_test_invers = []\n",
    "for i, y in enumerate(y_test.reset_index(drop=True)):\n",
    "    y_test_invers.append(1-y)\n",
    "# K соседей\n",
    "probas_mrnc1 = mrnc.predict_proba(X_test, X_train, y_train)\n",
    "precision, recall, thresholds = precision_recall_curve(y_test_invers, probas_mrnc1[:,0])\n",
    "aps_mrnc1 = average_precision_score(y_test_invers,probas_mrnc1[:,0])\n",
    "plt.plot(recall, precision, label='%s PR (area = %f)' % ('RadiusNeighborsClassifier', aps_mrnc1))\n",
    "# Персептрон\n",
    "precision, recall, thresholds = precision_recall_curve(y_test_invers, probas_slf1[:,0])\n",
    "aps_slf1 = average_precision_score(y_test_invers,probas_slf1[:,0])\n",
    "plt.plot(recall, precision, label='%s PR (area = %f)' % ('PerceptronClassifier',  aps_slf1))\n",
    "# вывод графика\n",
    "plt.xlabel('Recall')\n",
    "plt.ylabel('Precision')\n",
    "plt.xlim([0.0, 1.0])\n",
    "plt.ylim([0.0, 1.0])\n",
    "plt.legend(loc=4, fontsize='medium')\n",
    "plt.title('class')\n",
    "plt.show()\n",
    "\n",
    "plt.figure(figsize=(10,8))\n",
    "# K соседей\n",
    "precision, recall, thresholds = precision_recall_curve(y_test, probas_mrnc1[:,1])\n",
    "aps_mrnc1 = average_precision_score(y_test,probas_mrnc1[:,1])\n",
    "plt.plot(recall, precision, label='%s PR (area = %f)' % ('RadiusNeighborsClassifier', aps_mrnc1))\n",
    "# Персептрон\n",
    "precision, recall, thresholds = precision_recall_curve(y_test, probas_slf1[:,1])\n",
    "aps_slf1 = average_precision_score(y_test,probas_slf1[:,1])\n",
    "plt.plot(recall, precision, label='%s PR (area = %f)' % ('PerceptronClassifier',  aps_slf1)) \n",
    "# вывод графика\n",
    "plt.xlabel('Recall')\n",
    "plt.ylabel('Precision')\n",
    "plt.xlim([0.0, 1.0])\n",
    "plt.ylim([0.0, 1.0])\n",
    "plt.legend(loc=4, fontsize='medium')\n",
    "plt.title('class')\n",
    "plt.show()"
   ]
  },
  {
   "cell_type": "markdown",
   "metadata": {},
   "source": [
    " ### 9. Сравните кривые для классификаторов, указанных в задании, сделайте выводы. \n",
    "Классификаторы K ближайших соседей и линейный классификатор имеют примерно одинаковые показатели качества относительно PR и ROC кривых. В целом, данные классификаторы правильно решают задачу предсказания класса с вероятностью ~0.88 и ~0.99, что достаточно точно."
   ]
  },
  {
   "cell_type": "code",
   "execution_count": null,
   "metadata": {
    "collapsed": true
   },
   "outputs": [],
   "source": []
  }
 ],
 "metadata": {
  "kernelspec": {
   "display_name": "Python 3",
   "language": "python",
   "name": "python3"
  },
  "language_info": {
   "codemirror_mode": {
    "name": "ipython",
    "version": 3
   },
   "file_extension": ".py",
   "mimetype": "text/x-python",
   "name": "python",
   "nbconvert_exporter": "python",
   "pygments_lexer": "ipython3",
   "version": "3.6.3"
  }
 },
 "nbformat": 4,
 "nbformat_minor": 2
}
