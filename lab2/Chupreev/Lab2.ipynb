{
 "cells": [
  {
   "cell_type": "markdown",
   "metadata": {},
   "source": [
    "# Лабораторная работа № 2\n",
    "# Чупреева Давида,15-АС\n",
    "# Вариант 31"
   ]
  },
  {
   "cell_type": "code",
   "execution_count": null,
   "metadata": {},
   "outputs": [],
   "source": [
    "import pandas as pandas\n",
    "import numpy as numpy\n",
    "import seaborn as seaborn\n",
    "import matplotlib.pyplot as plot\n",
    "\n",
    "from sklearn import neighbors\n",
    "from sklearn.cross_validation import train_test_split\n",
    "from sklearn.grid_search import GridSearchCV\n",
    "from sklearn.preprocessing import MinMaxScaler, LabelEncoder, label_binarize\n",
    "from sklearn.tree import DecisionTreeClassifier\n",
    "from sklearn.neighbors import RadiusNeighborsClassifier\n",
    "from sklearn.model_selection import cross_val_score, train_test_split\n",
    "from sklearn.metrics import auc, roc_curve, precision_recall_curve, average_precision_score\n",
    "\n",
    "import warnings\n",
    "warnings.filterwarnings(\"ignore\")\n",
    "seaborn.set_style('darkgrid')"
   ]
  },
  {
   "cell_type": "code",
   "execution_count": null,
   "metadata": {},
   "outputs": [],
   "source": [
    "headers = ['type', 'alcohol', 'acid', 'ash', \n",
    "          'alcalinity', 'magnesium', 'total phenols', 'flavanoids',\n",
    "          'nonflavanoid phenols', 'proanthocyanins', 'color intensity',\n",
    "          'hue', 'od280', 'proline']\n",
    "data_frame = pd.read_csv('wine.data.txt', names = headers) \n",
    "data_frame.head()"
   ]
  },
  {
   "cell_type": "code",
   "execution_count": 41,
   "metadata": {},
   "outputs": [
    {
     "data": {
      "text/plain": [
       "(178, 14)"
      ]
     },
     "execution_count": 41,
     "metadata": {},
     "output_type": "execute_result"
    }
   ],
   "source": [
    "data_frame.shape"
   ]
  },
  {
   "cell_type": "code",
   "execution_count": 42,
   "metadata": {},
   "outputs": [
    {
     "data": {
      "text/plain": [
       "type                    178\n",
       "alcohol                 178\n",
       "acid                    178\n",
       "ash                     178\n",
       "alcalinity              178\n",
       "magnesium               178\n",
       "total phenols           178\n",
       "flavanoids              178\n",
       "nonflavanoid phenols    178\n",
       "proanthocyanins         178\n",
       "color intensity         178\n",
       "hue                     178\n",
       "od280                   178\n",
       "proline                 178\n",
       "dtype: int64"
      ]
     },
     "execution_count": 42,
     "metadata": {},
     "output_type": "execute_result"
    }
   ],
   "source": [
    "data_frame.count()"
   ]
  },
  {
   "cell_type": "markdown",
   "metadata": {},
   "source": [
    "# 2. Удалите дубликаты строк в наборе данных"
   ]
  },
  {
   "cell_type": "code",
   "execution_count": null,
   "metadata": {},
   "outputs": [],
   "source": [
    "data_frame = data_frame.drop_duplicates()\n",
    "data_frame = data_frame.dropna()\n",
    "data_frame = data_frame.reset_index(drop = True)\n",
    "data_frame.shape"
   ]
  },
  {
   "cell_type": "code",
   "execution_count": 44,
   "metadata": {},
   "outputs": [
    {
     "data": {
      "text/plain": [
       "type                    178\n",
       "alcohol                 178\n",
       "acid                    178\n",
       "ash                     178\n",
       "alcalinity              178\n",
       "magnesium               178\n",
       "total phenols           178\n",
       "flavanoids              178\n",
       "nonflavanoid phenols    178\n",
       "proanthocyanins         178\n",
       "color intensity         178\n",
       "hue                     178\n",
       "od280                   178\n",
       "proline                 178\n",
       "dtype: int64"
      ]
     },
     "execution_count": 44,
     "metadata": {},
     "output_type": "execute_result"
    }
   ],
   "source": [
    "data_frame.count()"
   ]
  },
  {
   "cell_type": "code",
   "execution_count": 45,
   "metadata": {
    "scrolled": true
   },
   "outputs": [
    {
     "data": {
      "text/html": [
       "<div>\n",
       "<style scoped>\n",
       "    .dataframe tbody tr th:only-of-type {\n",
       "        vertical-align: middle;\n",
       "    }\n",
       "\n",
       "    .dataframe tbody tr th {\n",
       "        vertical-align: top;\n",
       "    }\n",
       "\n",
       "    .dataframe thead th {\n",
       "        text-align: right;\n",
       "    }\n",
       "</style>\n",
       "<table border=\"1\" class=\"dataframe\">\n",
       "  <thead>\n",
       "    <tr style=\"text-align: right;\">\n",
       "      <th></th>\n",
       "      <th>type</th>\n",
       "      <th>alcohol</th>\n",
       "      <th>acid</th>\n",
       "      <th>ash</th>\n",
       "      <th>alcalinity</th>\n",
       "      <th>magnesium</th>\n",
       "      <th>total phenols</th>\n",
       "      <th>flavanoids</th>\n",
       "      <th>nonflavanoid phenols</th>\n",
       "      <th>proanthocyanins</th>\n",
       "      <th>color intensity</th>\n",
       "      <th>hue</th>\n",
       "      <th>od280</th>\n",
       "      <th>proline</th>\n",
       "    </tr>\n",
       "  </thead>\n",
       "  <tbody>\n",
       "    <tr>\n",
       "      <th>0</th>\n",
       "      <td>1</td>\n",
       "      <td>0.842105</td>\n",
       "      <td>0.191700</td>\n",
       "      <td>0.572193</td>\n",
       "      <td>0.257732</td>\n",
       "      <td>0.619565</td>\n",
       "      <td>0.627586</td>\n",
       "      <td>0.573840</td>\n",
       "      <td>0.283019</td>\n",
       "      <td>0.593060</td>\n",
       "      <td>0.372014</td>\n",
       "      <td>0.455285</td>\n",
       "      <td>0.970696</td>\n",
       "      <td>0.561341</td>\n",
       "    </tr>\n",
       "    <tr>\n",
       "      <th>1</th>\n",
       "      <td>1</td>\n",
       "      <td>0.571053</td>\n",
       "      <td>0.205534</td>\n",
       "      <td>0.417112</td>\n",
       "      <td>0.030928</td>\n",
       "      <td>0.326087</td>\n",
       "      <td>0.575862</td>\n",
       "      <td>0.510549</td>\n",
       "      <td>0.245283</td>\n",
       "      <td>0.274448</td>\n",
       "      <td>0.264505</td>\n",
       "      <td>0.463415</td>\n",
       "      <td>0.780220</td>\n",
       "      <td>0.550642</td>\n",
       "    </tr>\n",
       "    <tr>\n",
       "      <th>2</th>\n",
       "      <td>1</td>\n",
       "      <td>0.560526</td>\n",
       "      <td>0.320158</td>\n",
       "      <td>0.700535</td>\n",
       "      <td>0.412371</td>\n",
       "      <td>0.336957</td>\n",
       "      <td>0.627586</td>\n",
       "      <td>0.611814</td>\n",
       "      <td>0.320755</td>\n",
       "      <td>0.757098</td>\n",
       "      <td>0.375427</td>\n",
       "      <td>0.447154</td>\n",
       "      <td>0.695971</td>\n",
       "      <td>0.646933</td>\n",
       "    </tr>\n",
       "    <tr>\n",
       "      <th>3</th>\n",
       "      <td>1</td>\n",
       "      <td>0.878947</td>\n",
       "      <td>0.239130</td>\n",
       "      <td>0.609626</td>\n",
       "      <td>0.319588</td>\n",
       "      <td>0.467391</td>\n",
       "      <td>0.989655</td>\n",
       "      <td>0.664557</td>\n",
       "      <td>0.207547</td>\n",
       "      <td>0.558360</td>\n",
       "      <td>0.556314</td>\n",
       "      <td>0.308943</td>\n",
       "      <td>0.798535</td>\n",
       "      <td>0.857347</td>\n",
       "    </tr>\n",
       "    <tr>\n",
       "      <th>4</th>\n",
       "      <td>1</td>\n",
       "      <td>0.581579</td>\n",
       "      <td>0.365613</td>\n",
       "      <td>0.807487</td>\n",
       "      <td>0.536082</td>\n",
       "      <td>0.521739</td>\n",
       "      <td>0.627586</td>\n",
       "      <td>0.495781</td>\n",
       "      <td>0.490566</td>\n",
       "      <td>0.444795</td>\n",
       "      <td>0.259386</td>\n",
       "      <td>0.455285</td>\n",
       "      <td>0.608059</td>\n",
       "      <td>0.325963</td>\n",
       "    </tr>\n",
       "  </tbody>\n",
       "</table>\n",
       "</div>"
      ],
      "text/plain": [
       "  type   alcohol      acid       ash  alcalinity  magnesium  total phenols  \\\n",
       "0    1  0.842105  0.191700  0.572193    0.257732   0.619565       0.627586   \n",
       "1    1  0.571053  0.205534  0.417112    0.030928   0.326087       0.575862   \n",
       "2    1  0.560526  0.320158  0.700535    0.412371   0.336957       0.627586   \n",
       "3    1  0.878947  0.239130  0.609626    0.319588   0.467391       0.989655   \n",
       "4    1  0.581579  0.365613  0.807487    0.536082   0.521739       0.627586   \n",
       "\n",
       "   flavanoids  nonflavanoid phenols  proanthocyanins  color intensity  \\\n",
       "0    0.573840              0.283019         0.593060         0.372014   \n",
       "1    0.510549              0.245283         0.274448         0.264505   \n",
       "2    0.611814              0.320755         0.757098         0.375427   \n",
       "3    0.664557              0.207547         0.558360         0.556314   \n",
       "4    0.495781              0.490566         0.444795         0.259386   \n",
       "\n",
       "        hue     od280   proline  \n",
       "0  0.455285  0.970696  0.561341  \n",
       "1  0.463415  0.780220  0.550642  \n",
       "2  0.447154  0.695971  0.646933  \n",
       "3  0.308943  0.798535  0.857347  \n",
       "4  0.455285  0.608059  0.325963  "
      ]
     },
     "execution_count": 45,
     "metadata": {},
     "output_type": "execute_result"
    }
   ],
   "source": [
    "data_frame.head()"
   ]
  },
  {
   "cell_type": "markdown",
   "metadata": {},
   "source": [
    "# 3.Оцените сбалансированность данных по классам (постройте гистограмму). Используйте полученную информацию при выборе метрики оценки качества классификации (PR или ROC кривая)."
   ]
  },
  {
   "cell_type": "code",
   "execution_count": null,
   "metadata": {},
   "outputs": [],
   "source": [
    "seaborn.countplot(data = data_frame, y = 'type')\n",
    "plot.show()"
   ]
  },
  {
   "cell_type": "markdown",
   "metadata": {},
   "source": [
    "# 4.Выполните масштабирование количественных признаков; Постройте диаграммы BoxPlot для признаков до и после масштабирования. "
   ]
  },
  {
   "cell_type": "code",
   "execution_count": 47,
   "metadata": {},
   "outputs": [
    {
     "name": "stdout",
     "output_type": "stream",
     "text": [
      "numerical:  ['alcohol', 'acid', 'ash', 'alcalinity', 'magnesium', 'total phenols', 'flavanoids', 'nonflavanoid phenols', 'proanthocyanins', 'color intensity', 'hue', 'od280', 'proline']\n",
      "categorial:  ['type']\n"
     ]
    }
   ],
   "source": [
    "numerical_columns = [i for i in data_frame.columns if data_frame[i].dtype.name != 'object']\n",
    "categorial_columns = [i for i in data_frame.columns if data_frame[i].dtype.name == 'object']\n",
    "\n",
    "print('numerical: ', numerical_columns)\n",
    "print('categorial: ', categorial_columns)"
   ]
  },
  {
   "cell_type": "code",
   "execution_count": 48,
   "metadata": {},
   "outputs": [
    {
     "name": "stdout",
     "output_type": "stream",
     "text": [
      "numerical:  ['alcohol', 'acid', 'ash', 'alcalinity', 'magnesium', 'total phenols', 'flavanoids', 'nonflavanoid phenols', 'proanthocyanins', 'color intensity', 'hue', 'od280', 'proline']\n",
      "categorial:  ['type']\n"
     ]
    }
   ],
   "source": [
    "data_frame['type'] = data_frame['type'].apply(lambda x: str(x))\n",
    "\n",
    "#заново выделим категориальные и числовые\n",
    "numerical_columns = [i for i in data_frame.columns if data_frame[i].dtype.name != 'object']\n",
    "categorial_columns = [i for i in data_frame.columns if data_frame[i].dtype.name == 'object']\n",
    "\n",
    "print('numerical: ', numerical_columns)\n",
    "print('categorial: ', categorial_columns)"
   ]
  },
  {
   "cell_type": "code",
   "execution_count": 49,
   "metadata": {
    "scrolled": true
   },
   "outputs": [
    {
     "data": {
      "text/html": [
       "<div>\n",
       "<style scoped>\n",
       "    .dataframe tbody tr th:only-of-type {\n",
       "        vertical-align: middle;\n",
       "    }\n",
       "\n",
       "    .dataframe tbody tr th {\n",
       "        vertical-align: top;\n",
       "    }\n",
       "\n",
       "    .dataframe thead th {\n",
       "        text-align: right;\n",
       "    }\n",
       "</style>\n",
       "<table border=\"1\" class=\"dataframe\">\n",
       "  <thead>\n",
       "    <tr style=\"text-align: right;\">\n",
       "      <th></th>\n",
       "      <th>type</th>\n",
       "      <th>alcohol</th>\n",
       "      <th>acid</th>\n",
       "      <th>ash</th>\n",
       "      <th>alcalinity</th>\n",
       "      <th>magnesium</th>\n",
       "      <th>total phenols</th>\n",
       "      <th>flavanoids</th>\n",
       "      <th>nonflavanoid phenols</th>\n",
       "      <th>proanthocyanins</th>\n",
       "      <th>color intensity</th>\n",
       "      <th>hue</th>\n",
       "      <th>od280</th>\n",
       "      <th>proline</th>\n",
       "    </tr>\n",
       "  </thead>\n",
       "  <tbody>\n",
       "    <tr>\n",
       "      <th>0</th>\n",
       "      <td>1</td>\n",
       "      <td>0.842105</td>\n",
       "      <td>0.191700</td>\n",
       "      <td>0.572193</td>\n",
       "      <td>0.257732</td>\n",
       "      <td>0.619565</td>\n",
       "      <td>0.627586</td>\n",
       "      <td>0.573840</td>\n",
       "      <td>0.283019</td>\n",
       "      <td>0.593060</td>\n",
       "      <td>0.372014</td>\n",
       "      <td>0.455285</td>\n",
       "      <td>0.970696</td>\n",
       "      <td>0.561341</td>\n",
       "    </tr>\n",
       "    <tr>\n",
       "      <th>1</th>\n",
       "      <td>1</td>\n",
       "      <td>0.571053</td>\n",
       "      <td>0.205534</td>\n",
       "      <td>0.417112</td>\n",
       "      <td>0.030928</td>\n",
       "      <td>0.326087</td>\n",
       "      <td>0.575862</td>\n",
       "      <td>0.510549</td>\n",
       "      <td>0.245283</td>\n",
       "      <td>0.274448</td>\n",
       "      <td>0.264505</td>\n",
       "      <td>0.463415</td>\n",
       "      <td>0.780220</td>\n",
       "      <td>0.550642</td>\n",
       "    </tr>\n",
       "    <tr>\n",
       "      <th>2</th>\n",
       "      <td>1</td>\n",
       "      <td>0.560526</td>\n",
       "      <td>0.320158</td>\n",
       "      <td>0.700535</td>\n",
       "      <td>0.412371</td>\n",
       "      <td>0.336957</td>\n",
       "      <td>0.627586</td>\n",
       "      <td>0.611814</td>\n",
       "      <td>0.320755</td>\n",
       "      <td>0.757098</td>\n",
       "      <td>0.375427</td>\n",
       "      <td>0.447154</td>\n",
       "      <td>0.695971</td>\n",
       "      <td>0.646933</td>\n",
       "    </tr>\n",
       "    <tr>\n",
       "      <th>3</th>\n",
       "      <td>1</td>\n",
       "      <td>0.878947</td>\n",
       "      <td>0.239130</td>\n",
       "      <td>0.609626</td>\n",
       "      <td>0.319588</td>\n",
       "      <td>0.467391</td>\n",
       "      <td>0.989655</td>\n",
       "      <td>0.664557</td>\n",
       "      <td>0.207547</td>\n",
       "      <td>0.558360</td>\n",
       "      <td>0.556314</td>\n",
       "      <td>0.308943</td>\n",
       "      <td>0.798535</td>\n",
       "      <td>0.857347</td>\n",
       "    </tr>\n",
       "    <tr>\n",
       "      <th>4</th>\n",
       "      <td>1</td>\n",
       "      <td>0.581579</td>\n",
       "      <td>0.365613</td>\n",
       "      <td>0.807487</td>\n",
       "      <td>0.536082</td>\n",
       "      <td>0.521739</td>\n",
       "      <td>0.627586</td>\n",
       "      <td>0.495781</td>\n",
       "      <td>0.490566</td>\n",
       "      <td>0.444795</td>\n",
       "      <td>0.259386</td>\n",
       "      <td>0.455285</td>\n",
       "      <td>0.608059</td>\n",
       "      <td>0.325963</td>\n",
       "    </tr>\n",
       "  </tbody>\n",
       "</table>\n",
       "</div>"
      ],
      "text/plain": [
       "  type   alcohol      acid       ash  alcalinity  magnesium  total phenols  \\\n",
       "0    1  0.842105  0.191700  0.572193    0.257732   0.619565       0.627586   \n",
       "1    1  0.571053  0.205534  0.417112    0.030928   0.326087       0.575862   \n",
       "2    1  0.560526  0.320158  0.700535    0.412371   0.336957       0.627586   \n",
       "3    1  0.878947  0.239130  0.609626    0.319588   0.467391       0.989655   \n",
       "4    1  0.581579  0.365613  0.807487    0.536082   0.521739       0.627586   \n",
       "\n",
       "   flavanoids  nonflavanoid phenols  proanthocyanins  color intensity  \\\n",
       "0    0.573840              0.283019         0.593060         0.372014   \n",
       "1    0.510549              0.245283         0.274448         0.264505   \n",
       "2    0.611814              0.320755         0.757098         0.375427   \n",
       "3    0.664557              0.207547         0.558360         0.556314   \n",
       "4    0.495781              0.490566         0.444795         0.259386   \n",
       "\n",
       "        hue     od280   proline  \n",
       "0  0.455285  0.970696  0.561341  \n",
       "1  0.463415  0.780220  0.550642  \n",
       "2  0.447154  0.695971  0.646933  \n",
       "3  0.308943  0.798535  0.857347  \n",
       "4  0.455285  0.608059  0.325963  "
      ]
     },
     "execution_count": 49,
     "metadata": {},
     "output_type": "execute_result"
    }
   ],
   "source": [
    "scaler = MinMaxScaler()\n",
    "data_frame[numerical_columns] = scaler.fit_transform(data_frame[numerical_columns])\n",
    "data_frame.head()"
   ]
  },
  {
   "cell_type": "markdown",
   "metadata": {},
   "source": [
    "# 5.Выполните замену категориальных признаков."
   ]
  },
  {
   "cell_type": "code",
   "execution_count": 50,
   "metadata": {},
   "outputs": [
    {
     "data": {
      "text/html": [
       "<div>\n",
       "<style scoped>\n",
       "    .dataframe tbody tr th:only-of-type {\n",
       "        vertical-align: middle;\n",
       "    }\n",
       "\n",
       "    .dataframe tbody tr th {\n",
       "        vertical-align: top;\n",
       "    }\n",
       "\n",
       "    .dataframe thead th {\n",
       "        text-align: right;\n",
       "    }\n",
       "</style>\n",
       "<table border=\"1\" class=\"dataframe\">\n",
       "  <thead>\n",
       "    <tr style=\"text-align: right;\">\n",
       "      <th></th>\n",
       "      <th>type</th>\n",
       "      <th>alcohol</th>\n",
       "      <th>acid</th>\n",
       "      <th>ash</th>\n",
       "      <th>alcalinity</th>\n",
       "      <th>magnesium</th>\n",
       "      <th>total phenols</th>\n",
       "      <th>flavanoids</th>\n",
       "      <th>nonflavanoid phenols</th>\n",
       "      <th>proanthocyanins</th>\n",
       "      <th>color intensity</th>\n",
       "      <th>hue</th>\n",
       "      <th>od280</th>\n",
       "      <th>proline</th>\n",
       "    </tr>\n",
       "  </thead>\n",
       "  <tbody>\n",
       "    <tr>\n",
       "      <th>0</th>\n",
       "      <td>0</td>\n",
       "      <td>0.842105</td>\n",
       "      <td>0.191700</td>\n",
       "      <td>0.572193</td>\n",
       "      <td>0.257732</td>\n",
       "      <td>0.619565</td>\n",
       "      <td>0.627586</td>\n",
       "      <td>0.573840</td>\n",
       "      <td>0.283019</td>\n",
       "      <td>0.593060</td>\n",
       "      <td>0.372014</td>\n",
       "      <td>0.455285</td>\n",
       "      <td>0.970696</td>\n",
       "      <td>0.561341</td>\n",
       "    </tr>\n",
       "    <tr>\n",
       "      <th>1</th>\n",
       "      <td>0</td>\n",
       "      <td>0.571053</td>\n",
       "      <td>0.205534</td>\n",
       "      <td>0.417112</td>\n",
       "      <td>0.030928</td>\n",
       "      <td>0.326087</td>\n",
       "      <td>0.575862</td>\n",
       "      <td>0.510549</td>\n",
       "      <td>0.245283</td>\n",
       "      <td>0.274448</td>\n",
       "      <td>0.264505</td>\n",
       "      <td>0.463415</td>\n",
       "      <td>0.780220</td>\n",
       "      <td>0.550642</td>\n",
       "    </tr>\n",
       "    <tr>\n",
       "      <th>2</th>\n",
       "      <td>0</td>\n",
       "      <td>0.560526</td>\n",
       "      <td>0.320158</td>\n",
       "      <td>0.700535</td>\n",
       "      <td>0.412371</td>\n",
       "      <td>0.336957</td>\n",
       "      <td>0.627586</td>\n",
       "      <td>0.611814</td>\n",
       "      <td>0.320755</td>\n",
       "      <td>0.757098</td>\n",
       "      <td>0.375427</td>\n",
       "      <td>0.447154</td>\n",
       "      <td>0.695971</td>\n",
       "      <td>0.646933</td>\n",
       "    </tr>\n",
       "    <tr>\n",
       "      <th>3</th>\n",
       "      <td>0</td>\n",
       "      <td>0.878947</td>\n",
       "      <td>0.239130</td>\n",
       "      <td>0.609626</td>\n",
       "      <td>0.319588</td>\n",
       "      <td>0.467391</td>\n",
       "      <td>0.989655</td>\n",
       "      <td>0.664557</td>\n",
       "      <td>0.207547</td>\n",
       "      <td>0.558360</td>\n",
       "      <td>0.556314</td>\n",
       "      <td>0.308943</td>\n",
       "      <td>0.798535</td>\n",
       "      <td>0.857347</td>\n",
       "    </tr>\n",
       "    <tr>\n",
       "      <th>4</th>\n",
       "      <td>0</td>\n",
       "      <td>0.581579</td>\n",
       "      <td>0.365613</td>\n",
       "      <td>0.807487</td>\n",
       "      <td>0.536082</td>\n",
       "      <td>0.521739</td>\n",
       "      <td>0.627586</td>\n",
       "      <td>0.495781</td>\n",
       "      <td>0.490566</td>\n",
       "      <td>0.444795</td>\n",
       "      <td>0.259386</td>\n",
       "      <td>0.455285</td>\n",
       "      <td>0.608059</td>\n",
       "      <td>0.325963</td>\n",
       "    </tr>\n",
       "  </tbody>\n",
       "</table>\n",
       "</div>"
      ],
      "text/plain": [
       "   type   alcohol      acid       ash  alcalinity  magnesium  total phenols  \\\n",
       "0     0  0.842105  0.191700  0.572193    0.257732   0.619565       0.627586   \n",
       "1     0  0.571053  0.205534  0.417112    0.030928   0.326087       0.575862   \n",
       "2     0  0.560526  0.320158  0.700535    0.412371   0.336957       0.627586   \n",
       "3     0  0.878947  0.239130  0.609626    0.319588   0.467391       0.989655   \n",
       "4     0  0.581579  0.365613  0.807487    0.536082   0.521739       0.627586   \n",
       "\n",
       "   flavanoids  nonflavanoid phenols  proanthocyanins  color intensity  \\\n",
       "0    0.573840              0.283019         0.593060         0.372014   \n",
       "1    0.510549              0.245283         0.274448         0.264505   \n",
       "2    0.611814              0.320755         0.757098         0.375427   \n",
       "3    0.664557              0.207547         0.558360         0.556314   \n",
       "4    0.495781              0.490566         0.444795         0.259386   \n",
       "\n",
       "        hue     od280   proline  \n",
       "0  0.455285  0.970696  0.561341  \n",
       "1  0.463415  0.780220  0.550642  \n",
       "2  0.447154  0.695971  0.646933  \n",
       "3  0.308943  0.798535  0.857347  \n",
       "4  0.455285  0.608059  0.325963  "
      ]
     },
     "execution_count": 50,
     "metadata": {},
     "output_type": "execute_result"
    }
   ],
   "source": [
    "label = LabelEncoder() \n",
    "data_frame[\"type\"] = label.fit_transform(data_frame[\"type\"])\n",
    "data_frame.head()"
   ]
  },
  {
   "cell_type": "markdown",
   "metadata": {},
   "source": [
    "# 6.Оцените корреляцию между признаками."
   ]
  },
  {
   "cell_type": "code",
   "execution_count": null,
   "metadata": {
    "scrolled": true
   },
   "outputs": [],
   "source": [
    "corr = df.corr()\n",
    "seaborn.heatmap(corr)\n",
    "plot.show()"
   ]
  },
  {
   "cell_type": "markdown",
   "metadata": {},
   "source": [
    "# 7.Заполните пропущенные значения в данных"
   ]
  },
  {
   "cell_type": "code",
   "execution_count": 63,
   "metadata": {
    "scrolled": true
   },
   "outputs": [
    {
     "name": "stdout",
     "output_type": "stream",
     "text": [
      "<class 'pandas.core.frame.DataFrame'>\n",
      "RangeIndex: 178 entries, 0 to 177\n",
      "Data columns (total 14 columns):\n",
      "type                    178 non-null int64\n",
      "alcohol                 178 non-null float64\n",
      "acid                    178 non-null float64\n",
      "ash                     178 non-null float64\n",
      "alcalinity              178 non-null float64\n",
      "magnesium               178 non-null float64\n",
      "total phenols           178 non-null float64\n",
      "flavanoids              178 non-null float64\n",
      "nonflavanoid phenols    178 non-null float64\n",
      "proanthocyanins         178 non-null float64\n",
      "color intensity         178 non-null float64\n",
      "hue                     178 non-null float64\n",
      "od280                   178 non-null float64\n",
      "proline                 178 non-null float64\n",
      "dtypes: float64(13), int64(1)\n",
      "memory usage: 19.5 KB\n"
     ]
    }
   ],
   "source": [
    "data_frame.info()"
   ]
  },
  {
   "cell_type": "code",
   "execution_count": null,
   "metadata": {},
   "outputs": [],
   "source": [
    "Пропущенных значений нет"
   ]
  },
  {
   "cell_type": "markdown",
   "metadata": {},
   "source": [
    "# 8.Решите поставленную задачу классификации в соответствии с заданием"
   ]
  },
  {
   "cell_type": "code",
   "execution_count": 53,
   "metadata": {},
   "outputs": [],
   "source": [
    "x = numpy.array(data_frame.drop('type', axis=1))\n",
    "y = numpy.array(data_frame['type']) \n",
    "x_train, x_test, y_train, y_test = train_test_split(x, y, test_size = 0.5, random_state = 0)"
   ]
  },
  {
   "cell_type": "code",
   "execution_count": 56,
   "metadata": {},
   "outputs": [
    {
     "name": "stdout",
     "output_type": "stream",
     "text": [
      "best train score: 0.9887640449438202 \t at radius: 0.9\n",
      "test score:  0.910112359551\n"
     ]
    }
   ],
   "source": [
    "radius = RadiusNeighborsClassifier(outlier_label = 3)\n",
    "\n",
    "params = {'radius': numpy.arange(0, 10, 0.1)}\n",
    "\n",
    "radius_grid = GridSearchCV(radius, params)\n",
    "radius_grid.fit(x_train, y_train)\n",
    "\n",
    "best_radius = radius_grid.best_estimator_.radius\n",
    "best_score = radius_grid.best_score_\n",
    "print('best train score - ', best_score, 'at radius:', best_radius)\n",
    "\n",
    "radius = RadiusNeighborsClassifier(outlier_label = 3, radius = best_radius)\n",
    "radius.fit(x_train, y_train)\n",
    "best_score = numpy.mean(y_test == radius.predict(x_test))\n",
    "print('test score - ', best_score)"
   ]
  },
  {
   "cell_type": "code",
   "execution_count": 57,
   "metadata": {},
   "outputs": [
    {
     "name": "stdout",
     "output_type": "stream",
     "text": [
      "best train score: 0.898876404494382 \t at features number: 4 \t at depth: 3\n",
      "test score:  0.797752808989\n"
     ]
    }
   ],
   "source": [
    "decision = DecisionTreeClassifier()\n",
    "\n",
    "params = {'max_depth': list(range(1,5)), 'max_features': list(range(1,5))}\n",
    "\n",
    "decision_grid = GridSearchCV(decision, params)\n",
    "decision_grid.fit(x_train, y_train)\n",
    "\n",
    "best_features = decision_grid.best_estimator_.max_features\n",
    "best_depth = decision_grid.best_estimator_.max_depth\n",
    "best_score = decision_grid.best_score_\n",
    "print('best train score - ', best_score, 'at features number - ', best_features, 'at depth - ', best_depth)\n",
    "\n",
    "decision = DecisionTreeClassifier(max_depth = best_depth, max_features = best_features)\n",
    "decision.fit(x_train, y_train)\n",
    "best_score = numpy.mean(y_test == decision.predict(x_test))\n",
    "print('test score - ', best_score)"
   ]
  },
  {
   "cell_type": "code",
   "execution_count": 58,
   "metadata": {},
   "outputs": [
    {
     "data": {
      "text/plain": [
       "(0.3013538903431508, 1.0978006859598606, 0.65805343115833226)"
      ]
     },
     "execution_count": 58,
     "metadata": {},
     "output_type": "execute_result"
    }
   ],
   "source": [
    "from sklearn.metrics import accuracy_score\n",
    "\n",
    "classifier = RadiusNeighborsClassifier(radius = 1.1, n_jobs = -1, outlier_label = 3).fit(x_train, y_train)\n",
    "pred = classifier.predict(x_test)\n",
    "accuracy_score(y_test, pred)\n",
    "pred = classifier.radius_neighbors(x_test)[0]\n",
    "y_test = label_binarize(y_test, classes = [0, 1, 2])\n",
    "\n",
    "for i in range(len(pred)):\n",
    "    pred[:][i] = min(pred[:][i]), max(pred[:][i]), numpy.mean(pred[:][i])\n",
    "pred[:][73]"
   ]
  },
  {
   "cell_type": "code",
   "execution_count": 59,
   "metadata": {},
   "outputs": [],
   "source": [
    "class MyRadiusNeighborsClassifier(RadiusNeighborsClassifier):\n",
    "        \n",
    "    def predict_proba(self, X_test, X_train, y_train):\n",
    "        '''\n",
    "        \n",
    "        General description. \n",
    "        Determines the probability that a test instance matching a class.\n",
    "        \n",
    "        Algorithm. \n",
    "        We'll go through the zero radius to the double classifier radius\n",
    "        with the elementary step(dr). If an instance lies along the:\n",
    "        * Zero raduis+dr - corresponds 100%\n",
    "        * Classifier raduis+dr - corresponds 50%\n",
    "        * Double classifier raduis+dr and beyond it - corresponds 0%\n",
    "        There are intermediate values of percents. Each step corresponds\n",
    "        to its own percentage value. If predicted instance changes its \n",
    "        class, this instance belongs to the current radius and it is \n",
    "        assigned the appropriate percentage. \n",
    "        \n",
    "        fit method built-in\n",
    "        '''\n",
    "        runs = 25\n",
    "        dr = (2*self.radius/runs)    \n",
    "        \n",
    "        radiuses = [dr*i for i in range(runs)]  \n",
    "        percentage = [i/runs for i in range(runs)]\n",
    "        percentage = sorted(percentage, reverse=True)\n",
    "        probas = np.ndarray((len(y_test),3), dtype=np.float)\n",
    "        for i in range(len(probas)):\n",
    "            probas[i] = [0, 1, 2]\n",
    "        \n",
    "        for i, radius in enumerate(radiuses):\n",
    "            if i==0:\n",
    "                rnc_temp = RadiusNeighborsClassifier(radius, outlier_label=3)\n",
    "                predict_first = rnc_temp.fit(X_train, y_train).predict(X_test)\n",
    "                continue\n",
    "            else:\n",
    "                predict_second = predict_first\n",
    "                rnc_tmp = RadiusNeighborsClassifier(radius, outlier_label=3)\n",
    "                predict_first = rnc_tmp.fit(X_train, y_train).predict(X_test)\n",
    "        \n",
    "            for j, (p1, p2) in enumerate(zip(predict_first, predict_second)):\n",
    "                if p1!=p2:\n",
    "                    probas[j,0] = percentage[i]\n",
    "                    probas[j,1] = 1-probas[j,0]\n",
    "                \n",
    "        return probas"
   ]
  },
  {
   "cell_type": "code",
   "execution_count": 60,
   "metadata": {},
   "outputs": [
    {
     "data": {
      "image/png": "[encoded data removed]",
      "text/plain": [
       "<matplotlib.figure.Figure at 0x1b28fa31cf8>"
      ]
     },
     "metadata": {},
     "output_type": "display_data"
    },
    {
     "data": {
      "image/png": "[encoded data removed]",
      "text/plain": [
       "<matplotlib.figure.Figure at 0x1b28f683588>"
      ]
     },
     "metadata": {},
     "output_type": "display_data"
    },
    {
     "data": {
      "image/png": "[encoded data removed]",
      "text/plain": [
       "<matplotlib.figure.Figure at 0x1b28f6830b8>"
      ]
     },
     "metadata": {},
     "output_type": "display_data"
    }
   ],
   "source": [
    "classifier = MyRadiusNeighborsClassifier(outlier_label=3, radius=best_radius)\n",
    "probas_classifier0 = classifier.predict_proba(x_test, x_train, y_train)\n",
    "tpr, fpr, thresholds = roc_curve(y_test[:,0], -probas_classifier0[:,0])\n",
    "roc_auc = auc(fpr, tpr)\n",
    "plot.plot(fpr, tpr, label='%s ROC (area = %f)' % ('RadiusNeighborsClassifier', roc_auc)) \n",
    "\n",
    "dtc = DecisionTreeClassifier(max_depth=best_depth, max_features=best_features)\n",
    "probas_dtc0 = dtc.fit(x_train, y_train).predict_proba(x_test)\n",
    "tpr, fpr, thresholds = roc_curve(y_test[:,0], -probas_dtc0[:,0])\n",
    "roc_auc = auc(fpr, tpr)\n",
    "plot.plot(fpr, tpr, label='%s ROC (area = %f)' % ('DecisionTreeClassifier', roc_auc))  \n",
    "\n",
    "plot.plot([0, 1], [0, 1], 'k--')\n",
    "plot.xlim([0.0, 1.0])\n",
    "plot.ylim([0.0, 1.0])\n",
    "plot.xlabel('False Positive Rate')\n",
    "plot.ylabel('True Positive Rate')\n",
    "plot.legend(loc=4, fontsize='medium')\n",
    "plot.title('type 1')\n",
    "plot.show()\n",
    "\n",
    "classifier = MyRadiusNeighborsClassifier(outlier_label=3, radius=best_radius)\n",
    "probas_classifier1 = classifier.predict_proba(x_test, x_train, y_train)\n",
    "tpr, fpr, thresholds = roc_curve(y_test[:,1], -probas_classifier0[:,1])\n",
    "roc_auc = auc(fpr, tpr)\n",
    "plot.plot(fpr, tpr, label='%s ROC (area = %f)' % ('RadiusNeighborsClassifier', roc_auc)) \n",
    "\n",
    "dtc = DecisionTreeClassifier(max_depth=4, max_features=2)\n",
    "probas_dtc1 = dtc.fit(x_train, y_train).predict_proba(x_test)\n",
    "tpr, fpr, thresholds = roc_curve(y_test[:,1], -probas_dtc0[:,1])\n",
    "roc_auc = auc(fpr, tpr)\n",
    "plot.plot(fpr, tpr, label='%s ROC (area = %f)' % ('DecisionTreeClassifier', roc_auc))  \n",
    "\n",
    "plot.plot([0, 1], [0, 1], 'k--')\n",
    "plot.xlim([0.0, 1.0])\n",
    "plot.ylim([0.0, 1.0])\n",
    "plot.xlabel('False Positive Rate')\n",
    "plot.ylabel('True Positive Rate')\n",
    "plot.legend(loc=4, fontsize='medium')\n",
    "plot.title('type 2')\n",
    "plot.show()\n",
    "\n",
    "classifier = MyRadiusNeighborsClassifier(outlier_label=3, radius=best_radius)\n",
    "probas_classifier2 = classifier.predict_proba(x_test, x_train, y_train)\n",
    "tpr, fpr, thresholds = roc_curve(y_test[:,2], -probas_classifier0[:,2])\n",
    "roc_auc = auc(fpr, tpr)\n",
    "plot.plot(fpr, tpr, label='%s ROC (area = %f)' % ('RadiusNeighborsClassifier', roc_auc)) \n",
    "\n",
    "dtc = DecisionTreeClassifier(max_depth=4, max_features=2)\n",
    "probas_dtc2 = dtc.fit(x_train, y_train).predict_proba(x_test)\n",
    "tpr, fpr, thresholds = roc_curve(y_test[:,2], -probas_dtc0[:,2])\n",
    "roc_auc  = auc(fpr, tpr)\n",
    "plot.plot(fpr, tpr, label='%s ROC (area = %f)' % ('DecisionTreeClassifier', roc_auc))  \n",
    "\n",
    "plot.plot([0, 1], [0, 1], 'k--')\n",
    "plot.xlim([0.0, 1.0])\n",
    "plot.ylim([0.0, 1.0])\n",
    "plot.xlabel('False Positive Rate')\n",
    "plot.ylabel('True Positive Rate')\n",
    "plot.legend(loc=4, fontsize='medium')\n",
    "plot.title('type 3')\n",
    "plot.show()"
   ]
  },
  {
   "cell_type": "code",
   "execution_count": 61,
   "metadata": {
    "scrolled": true
   },
   "outputs": [
    {
     "data": {
      "image/png": "[encoded data removed]",
      "text/plain": [
       "<matplotlib.figure.Figure at 0x1b28f586978>"
      ]
     },
     "metadata": {},
     "output_type": "display_data"
    },
    {
     "data": {
      "image/png": "[encoded data removed]",
      "text/plain": [
       "<matplotlib.figure.Figure at 0x1b28ee1b978>"
      ]
     },
     "metadata": {},
     "output_type": "display_data"
    },
    {
     "data": {
      "image/png": "[encoded data removed]",
      "text/plain": [
       "<matplotlib.figure.Figure at 0x1b28edb4748>"
      ]
     },
     "metadata": {},
     "output_type": "display_data"
    }
   ],
   "source": [
    "plot.figure(figsize=(6,6))\n",
    "# K соседей\n",
    "precision, recall, thresholds = precision_recall_curve(y_test[:,0], probas_mrnc1[:,0])\n",
    "aps_mrnc1 = average_precision_score(y_test[:,0],probas_mrnc1[:,0])\n",
    "plot.plot(recall, precision, label='%s PR (area = %f)' % ('RadiusNeighborsClassifier', aps_mrnc1)) \n",
    "# решающее дерево\n",
    "precision, recall, thresholds = precision_recall_curve(y_test[:,0], probas_dtc1[:,0])\n",
    "aps_dtc1 = average_precision_score(y_test[:,0],probas_dtc1[:,0])\n",
    "plot.plot(recall, precision, label='%s PR (area = %f)' % ('DecisionTreeClassifier',  aps_dtc1)) \n",
    "# вывод графика\n",
    "plot.xlabel('Recall')\n",
    "plot.ylabel('Precision')\n",
    "plot.xlim([0.0, 1.0])\n",
    "plot.ylim([0.0, 1.0])\n",
    "plot.legend(loc=4, fontsize='medium')\n",
    "plot.title('type 1')\n",
    "plot.show()\n",
    "\n",
    "plot.figure(figsize=(6,6))\n",
    "# K соседей\n",
    "precision, recall, thresholds = precision_recall_curve(y_test[:,1], probas_mrnc1[:,1])\n",
    "aps_mrnc1 = average_precision_score(y_test[:,1],probas_mrnc1[:,1])\n",
    "plot.plot(recall, precision, label='%s PR (area = %f)' % ('RadiusNeighborsClassifier', aps_mrnc1)) \n",
    "# решающее дерево\n",
    "precision, recall, thresholds = precision_recall_curve(y_test[:,1], probas_dtc1[:,1])\n",
    "aps_dtc1 = average_precision_score(y_test[:,1],probas_dtc1[:,1])\n",
    "plot.plot(recall, precision, label='%s PR (area = %f)' % ('DecisionTreeClassifier',  aps_dtc1)) \n",
    "# вывод графика\n",
    "plot.xlabel('Recall')\n",
    "plot.ylabel('Precision')\n",
    "plot.xlim([0.0, 1.0])\n",
    "plot.ylim([0.0, 1.0])\n",
    "plot.legend(loc=4, fontsize='medium')\n",
    "plot.title('type 2')\n",
    "plot.show()\n",
    "\n",
    "plot.figure(figsize=(6,6))\n",
    "# K соседей\n",
    "precision, recall, thresholds = precision_recall_curve(y_test[:,2], probas_mrnc1[:,2])\n",
    "aps_mrnc1 = average_precision_score(y_test[:,2],probas_mrnc1[:,2])\n",
    "plot.plot(recall, precision, label='%s PR (area = %f)' % ('RadiusNeighborsClassifier', aps_mrnc1)) \n",
    "# решающее дерево\n",
    "precision, recall, thresholds = precision_recall_curve(y_test[:,2], probas_dtc1[:,2])\n",
    "aps_dtc1 = average_precision_score(y_test[:,2],probas_dtc1[:,2])\n",
    "plot.plot(recall, precision, label='%s PR (area = %f)' % ('DecisionTreeClassifier',  aps_dtc1)) \n",
    "# вывод графика\n",
    "plot.xlabel('Recall')\n",
    "plot.ylabel('Precision')\n",
    "plot.xlim([0.0, 1.0])\n",
    "plot.ylim([0.0, 1.0])\n",
    "plot.legend(loc=4, fontsize='medium')\n",
    "plot.title('type 3')\n",
    "plot.show()"
   ]
  },
  {
   "cell_type": "code",
   "execution_count": null,
   "metadata": {},
   "outputs": [],
   "source": []
  }
 ],
 "metadata": {
  "kernelspec": {
   "display_name": "Python 3",
   "language": "python",
   "name": "python3"
  },
  "language_info": {
   "codemirror_mode": {
    "name": "ipython",
    "version": 3
   },
   "file_extension": ".py",
   "mimetype": "text/x-python",
   "name": "python",
   "nbconvert_exporter": "python",
   "pygments_lexer": "ipython3",
   "version": "3.6.4"
  }
 },
 "nbformat": 4,
 "nbformat_minor": 2
}
