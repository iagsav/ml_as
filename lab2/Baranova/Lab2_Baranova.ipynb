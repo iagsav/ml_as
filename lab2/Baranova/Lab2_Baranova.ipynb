{
 "cells": [
  {
   "cell_type": "markdown",
   "metadata": {},
   "source": [
    "# Лабораторная работа №2\n",
    "# Баранова Алена. 15-АС\n",
    "# Вариант №2 (glass)"
   ]
  },
  {
   "cell_type": "code",
   "execution_count": 1,
   "metadata": {},
   "outputs": [],
   "source": [
    "#импорт библиотек\n",
    "import pandas as pd\n",
    "import numpy as np\n",
    "import seaborn as sns\n",
    "import sklearn as sk\n",
    "import matplotlib.pyplot as plt\n",
    "import numpy as np\n",
    "import pandas as pd\n",
    "import sklearn as sk\n",
    "import seaborn as sns\n",
    "import matplotlib.pyplot as plt\n",
    "import warnings\n",
    "warnings.filterwarnings(\"ignore\")\n",
    "from scipy import interp\n",
    "from sklearn.grid_search import GridSearchCV\n",
    "from sklearn.preprocessing import MinMaxScaler\n",
    "from sklearn.tree import DecisionTreeClassifier\n",
    "from sklearn.model_selection import StratifiedKFold\n",
    "from sklearn.neighbors import RadiusNeighborsClassifier\n",
    "from sklearn.model_selection import train_test_split, cross_val_score\n",
    "from sklearn.metrics import (auc, roc_curve, \n",
    "                             precision_recall_curve, \n",
    "                             average_precision_score)\n",
    "from sklearn.neighbors import KNeighborsClassifier\n",
    "from sklearn import datasets\n",
    "from sklearn.linear_model import perceptron\n",
    "from sklearn.preprocessing import LabelEncoder\n",
    "from sklearn import neighbors\n",
    "from sklearn.datasets import make_classification\n",
    "from sklearn.calibration import CalibratedClassifierCV\n",
    "from sklearn.cross_validation import train_test_split\n",
    "from sklearn.model_selection import cross_val_score\n",
    "from sklearn.preprocessing import LabelEncoder, OneHotEncoder\n",
    "from sklearn.linear_model import LogisticRegression\n",
    "from sklearn.ensemble import RandomForestClassifier, GradientBoostingClassifier\n",
    "from sklearn.metrics import precision_recall_curve, classification_report\n",
    "from sklearn.model_selection import train_test_split\n",
    "from sklearn.metrics import roc_curve, auc\n",
    "from matplotlib.pylab import rc, plot"
   ]
  },
  {
   "cell_type": "code",
   "execution_count": 2,
   "metadata": {},
   "outputs": [],
   "source": [
    "#чтение данных\n",
    "df= pd.read_csv(r'glass.csv', sep=',')"
   ]
  },
  {
   "cell_type": "markdown",
   "metadata": {},
   "source": [
    "1.Изучить набор данных. Создать описание набора данных на русском языке. Описать признаки, используемые в наборе данных (включить полученные описания в отчёт)."
   ]
  },
  {
   "cell_type": "markdown",
   "metadata": {},
   "source": [
    "    •RI - Показатель преломления\n",
    "    •Na - Натрий (процент веса, аттрибуты от 4 до 10)\n",
    "    •Mg - Магний\n",
    "    •Al - Алюминий\n",
    "    •Si - Кремний\n",
    "    •K - Калий\n",
    "    •Ca - Кальций\n",
    "    •Ba - Барий\n",
    "    •Fe - Железо\n",
    "    Типы стекла: 1 - термополированное строительное стекло(70), 2 - нетермополированное строительное стекло(76), 3 - термополированное автомобильное стекло(17), 4 - нетермополированное автомобильное стекло (нет в этой базе данных), 5 - контейнеры(13), 6 - посуда(9), 7 - фары(29)"
   ]
  },
  {
   "cell_type": "code",
   "execution_count": 3,
   "metadata": {},
   "outputs": [
    {
     "data": {
      "text/html": [
       "<div>\n",
       "<style scoped>\n",
       "    .dataframe tbody tr th:only-of-type {\n",
       "        vertical-align: middle;\n",
       "    }\n",
       "\n",
       "    .dataframe tbody tr th {\n",
       "        vertical-align: top;\n",
       "    }\n",
       "\n",
       "    .dataframe thead th {\n",
       "        text-align: right;\n",
       "    }\n",
       "</style>\n",
       "<table border=\"1\" class=\"dataframe\">\n",
       "  <thead>\n",
       "    <tr style=\"text-align: right;\">\n",
       "      <th></th>\n",
       "      <th>RI</th>\n",
       "      <th>Na</th>\n",
       "      <th>Mg</th>\n",
       "      <th>Al</th>\n",
       "      <th>Si</th>\n",
       "      <th>K</th>\n",
       "      <th>Ca</th>\n",
       "      <th>Ba</th>\n",
       "      <th>Fe</th>\n",
       "      <th>Type</th>\n",
       "    </tr>\n",
       "  </thead>\n",
       "  <tbody>\n",
       "    <tr>\n",
       "      <th>0</th>\n",
       "      <td>1.52101</td>\n",
       "      <td>13.64</td>\n",
       "      <td>4.49</td>\n",
       "      <td>1.10</td>\n",
       "      <td>71.78</td>\n",
       "      <td>0.06</td>\n",
       "      <td>8.75</td>\n",
       "      <td>0.0</td>\n",
       "      <td>0.0</td>\n",
       "      <td>1</td>\n",
       "    </tr>\n",
       "    <tr>\n",
       "      <th>1</th>\n",
       "      <td>1.51761</td>\n",
       "      <td>13.89</td>\n",
       "      <td>3.60</td>\n",
       "      <td>1.36</td>\n",
       "      <td>72.73</td>\n",
       "      <td>0.48</td>\n",
       "      <td>7.83</td>\n",
       "      <td>0.0</td>\n",
       "      <td>0.0</td>\n",
       "      <td>1</td>\n",
       "    </tr>\n",
       "    <tr>\n",
       "      <th>2</th>\n",
       "      <td>1.51618</td>\n",
       "      <td>13.53</td>\n",
       "      <td>3.55</td>\n",
       "      <td>1.54</td>\n",
       "      <td>72.99</td>\n",
       "      <td>0.39</td>\n",
       "      <td>7.78</td>\n",
       "      <td>0.0</td>\n",
       "      <td>0.0</td>\n",
       "      <td>1</td>\n",
       "    </tr>\n",
       "    <tr>\n",
       "      <th>3</th>\n",
       "      <td>1.51766</td>\n",
       "      <td>13.21</td>\n",
       "      <td>3.69</td>\n",
       "      <td>1.29</td>\n",
       "      <td>72.61</td>\n",
       "      <td>0.57</td>\n",
       "      <td>8.22</td>\n",
       "      <td>0.0</td>\n",
       "      <td>0.0</td>\n",
       "      <td>1</td>\n",
       "    </tr>\n",
       "    <tr>\n",
       "      <th>4</th>\n",
       "      <td>1.51742</td>\n",
       "      <td>13.27</td>\n",
       "      <td>3.62</td>\n",
       "      <td>1.24</td>\n",
       "      <td>73.08</td>\n",
       "      <td>0.55</td>\n",
       "      <td>8.07</td>\n",
       "      <td>0.0</td>\n",
       "      <td>0.0</td>\n",
       "      <td>1</td>\n",
       "    </tr>\n",
       "  </tbody>\n",
       "</table>\n",
       "</div>"
      ],
      "text/plain": [
       "        RI     Na    Mg    Al     Si     K    Ca   Ba   Fe  Type\n",
       "0  1.52101  13.64  4.49  1.10  71.78  0.06  8.75  0.0  0.0     1\n",
       "1  1.51761  13.89  3.60  1.36  72.73  0.48  7.83  0.0  0.0     1\n",
       "2  1.51618  13.53  3.55  1.54  72.99  0.39  7.78  0.0  0.0     1\n",
       "3  1.51766  13.21  3.69  1.29  72.61  0.57  8.22  0.0  0.0     1\n",
       "4  1.51742  13.27  3.62  1.24  73.08  0.55  8.07  0.0  0.0     1"
      ]
     },
     "execution_count": 3,
     "metadata": {},
     "output_type": "execute_result"
    }
   ],
   "source": [
    "df.head()"
   ]
  },
  {
   "cell_type": "markdown",
   "metadata": {},
   "source": [
    "2.Удалите дубликаты строк в наборе данных; приведите размер набора данных до и после данной операции"
   ]
  },
  {
   "cell_type": "code",
   "execution_count": 5,
   "metadata": {},
   "outputs": [
    {
     "data": {
      "text/plain": [
       "(214, 10)"
      ]
     },
     "execution_count": 5,
     "metadata": {},
     "output_type": "execute_result"
    }
   ],
   "source": [
    "df.shape"
   ]
  },
  {
   "cell_type": "code",
   "execution_count": 6,
   "metadata": {},
   "outputs": [
    {
     "data": {
      "text/plain": [
       "(213, 10)"
      ]
     },
     "execution_count": 6,
     "metadata": {},
     "output_type": "execute_result"
    }
   ],
   "source": [
    "df = df.drop_duplicates()\n",
    "df.shape"
   ]
  },
  {
   "cell_type": "markdown",
   "metadata": {},
   "source": [
    "3.Оцените сбалансированность данных по классам (постройте гистограмму). Используйте полученную информацию при выборе метрики оценки качества классификации (PR или ROC кривая)"
   ]
  },
  {
   "cell_type": "code",
   "execution_count": 7,
   "metadata": {},
   "outputs": [
    {
     "data": {
      "image/png": "[encoded data removed]",
      "text/plain": [
       "<matplotlib.figure.Figure at 0x58d7e10>"
      ]
     },
     "metadata": {},
     "output_type": "display_data"
    }
   ],
   "source": [
    "sns.countplot(data=df, y='Type')\n",
    "plt.show()"
   ]
  },
  {
   "cell_type": "markdown",
   "metadata": {},
   "source": [
    "Соотношение количество элементов заметно отличается, поэтому будем считать, что классы несбалансированы. Будем использовать ROC-кривую, поскольку она дает адекватную оценку качества работы алгоритма, где классы несбалансированы и их размеры выборки отличаются друг от друга несущественно (не на порядок)"
   ]
  },
  {
   "cell_type": "markdown",
   "metadata": {},
   "source": [
    "4.Выполните масштабирование количественных признаков; Постройте диаграммы BoxPlot для признаков до и после масштабирования. Выберите способ масштабирования (например, нормализацию или стандартизацию);"
   ]
  },
  {
   "cell_type": "code",
   "execution_count": 8,
   "metadata": {},
   "outputs": [
    {
     "name": "stdout",
     "output_type": "stream",
     "text": [
      "numerical:  ['RI', 'Na', 'Mg', 'Al', 'Si', 'K', 'Ca', 'Ba', 'Fe', 'Type']\n",
      "categorial:  []\n"
     ]
    }
   ],
   "source": [
    "\n",
    "numerical_columns = [i for i in df.columns if df[i].dtype.name != 'object']\n",
    "categorial_columns = [i for i in df.columns if df[i].dtype.name == 'object']\n",
    "\n",
    "print('numerical: ', numerical_columns)\n",
    "print('categorial: ', categorial_columns)"
   ]
  },
  {
   "cell_type": "code",
   "execution_count": 9,
   "metadata": {},
   "outputs": [
    {
     "name": "stdout",
     "output_type": "stream",
     "text": [
      "numerical:  ['RI', 'Na', 'Mg', 'Al', 'Si', 'K', 'Ca', 'Ba', 'Fe']\n",
      "categorial:  ['Type']\n"
     ]
    }
   ],
   "source": [
    "df['Type'] = df['Type'].apply(lambda x: str(x))\n",
    "\n",
    "#заново выделим категориальные и числовые\n",
    "numerical_columns = [i for i in df.columns if df[i].dtype.name != 'object']\n",
    "categorial_columns = [i for i in df.columns if df[i].dtype.name == 'object']\n",
    "\n",
    "print('numerical: ', numerical_columns)\n",
    "print('categorial: ', categorial_columns)"
   ]
  },
  {
   "cell_type": "code",
   "execution_count": 9,
   "metadata": {},
   "outputs": [
    {
     "data": {
      "image/png": "[encoded data removed]",
      "text/plain": [
       "<matplotlib.figure.Figure at 0xbd803c8>"
      ]
     },
     "metadata": {},
     "output_type": "display_data"
    }
   ],
   "source": [
    "plt.figure(figsize=(10,6))\n",
    "sns.boxplot(data=df[numerical_columns])\n",
    "plt.show()"
   ]
  },
  {
   "cell_type": "markdown",
   "metadata": {},
   "source": [
    "В качестве способа масштабирования выберем метод нормализации, т.к. устраняет шум перед использованием классификатора."
   ]
  },
  {
   "cell_type": "code",
   "execution_count": 10,
   "metadata": {},
   "outputs": [
    {
     "data": {
      "text/html": [
       "<div>\n",
       "<style scoped>\n",
       "    .dataframe tbody tr th:only-of-type {\n",
       "        vertical-align: middle;\n",
       "    }\n",
       "\n",
       "    .dataframe tbody tr th {\n",
       "        vertical-align: top;\n",
       "    }\n",
       "\n",
       "    .dataframe thead th {\n",
       "        text-align: right;\n",
       "    }\n",
       "</style>\n",
       "<table border=\"1\" class=\"dataframe\">\n",
       "  <thead>\n",
       "    <tr style=\"text-align: right;\">\n",
       "      <th></th>\n",
       "      <th>RI</th>\n",
       "      <th>Na</th>\n",
       "      <th>Mg</th>\n",
       "      <th>Al</th>\n",
       "      <th>Si</th>\n",
       "      <th>K</th>\n",
       "      <th>Ca</th>\n",
       "      <th>Ba</th>\n",
       "      <th>Fe</th>\n",
       "      <th>Type</th>\n",
       "    </tr>\n",
       "  </thead>\n",
       "  <tbody>\n",
       "    <tr>\n",
       "      <th>0</th>\n",
       "      <td>0.432836</td>\n",
       "      <td>0.437594</td>\n",
       "      <td>1.000000</td>\n",
       "      <td>0.252336</td>\n",
       "      <td>0.351786</td>\n",
       "      <td>0.009662</td>\n",
       "      <td>0.308550</td>\n",
       "      <td>0.0</td>\n",
       "      <td>0.0</td>\n",
       "      <td>1</td>\n",
       "    </tr>\n",
       "    <tr>\n",
       "      <th>1</th>\n",
       "      <td>0.283582</td>\n",
       "      <td>0.475188</td>\n",
       "      <td>0.801782</td>\n",
       "      <td>0.333333</td>\n",
       "      <td>0.521429</td>\n",
       "      <td>0.077295</td>\n",
       "      <td>0.223048</td>\n",
       "      <td>0.0</td>\n",
       "      <td>0.0</td>\n",
       "      <td>1</td>\n",
       "    </tr>\n",
       "    <tr>\n",
       "      <th>2</th>\n",
       "      <td>0.220808</td>\n",
       "      <td>0.421053</td>\n",
       "      <td>0.790646</td>\n",
       "      <td>0.389408</td>\n",
       "      <td>0.567857</td>\n",
       "      <td>0.062802</td>\n",
       "      <td>0.218401</td>\n",
       "      <td>0.0</td>\n",
       "      <td>0.0</td>\n",
       "      <td>1</td>\n",
       "    </tr>\n",
       "    <tr>\n",
       "      <th>3</th>\n",
       "      <td>0.285777</td>\n",
       "      <td>0.372932</td>\n",
       "      <td>0.821826</td>\n",
       "      <td>0.311526</td>\n",
       "      <td>0.500000</td>\n",
       "      <td>0.091787</td>\n",
       "      <td>0.259294</td>\n",
       "      <td>0.0</td>\n",
       "      <td>0.0</td>\n",
       "      <td>1</td>\n",
       "    </tr>\n",
       "    <tr>\n",
       "      <th>4</th>\n",
       "      <td>0.275241</td>\n",
       "      <td>0.381955</td>\n",
       "      <td>0.806236</td>\n",
       "      <td>0.295950</td>\n",
       "      <td>0.583929</td>\n",
       "      <td>0.088567</td>\n",
       "      <td>0.245353</td>\n",
       "      <td>0.0</td>\n",
       "      <td>0.0</td>\n",
       "      <td>1</td>\n",
       "    </tr>\n",
       "  </tbody>\n",
       "</table>\n",
       "</div>"
      ],
      "text/plain": [
       "         RI        Na        Mg        Al        Si         K        Ca   Ba  \\\n",
       "0  0.432836  0.437594  1.000000  0.252336  0.351786  0.009662  0.308550  0.0   \n",
       "1  0.283582  0.475188  0.801782  0.333333  0.521429  0.077295  0.223048  0.0   \n",
       "2  0.220808  0.421053  0.790646  0.389408  0.567857  0.062802  0.218401  0.0   \n",
       "3  0.285777  0.372932  0.821826  0.311526  0.500000  0.091787  0.259294  0.0   \n",
       "4  0.275241  0.381955  0.806236  0.295950  0.583929  0.088567  0.245353  0.0   \n",
       "\n",
       "    Fe Type  \n",
       "0  0.0    1  \n",
       "1  0.0    1  \n",
       "2  0.0    1  \n",
       "3  0.0    1  \n",
       "4  0.0    1  "
      ]
     },
     "execution_count": 10,
     "metadata": {},
     "output_type": "execute_result"
    }
   ],
   "source": [
    "scaler = MinMaxScaler()\n",
    "df[numerical_columns] = scaler.fit_transform(df[numerical_columns])\n",
    "df.head()"
   ]
  },
  {
   "cell_type": "code",
   "execution_count": 11,
   "metadata": {},
   "outputs": [
    {
     "data": {
      "image/png": "[encoded data removed]",
      "text/plain": [
       "<matplotlib.figure.Figure at 0x3720518>"
      ]
     },
     "metadata": {},
     "output_type": "display_data"
    }
   ],
   "source": [
    "plt.figure(figsize=(10,6))\n",
    "sns.boxplot(data=df[numerical_columns])\n",
    "plt.show()"
   ]
  },
  {
   "cell_type": "markdown",
   "metadata": {},
   "source": [
    "5.Выполните замену категориальных признаков; выберите и обоснуйте способ замены"
   ]
  },
  {
   "cell_type": "code",
   "execution_count": 11,
   "metadata": {},
   "outputs": [
    {
     "name": "stdout",
     "output_type": "stream",
     "text": [
      "Type :  ['1' '2' '3' '5' '6' '7']\n"
     ]
    }
   ],
   "source": [
    "for i in categorial_columns:\n",
    "    print(i,': ', df[i].unique())"
   ]
  },
  {
   "cell_type": "code",
   "execution_count": 12,
   "metadata": {},
   "outputs": [
    {
     "name": "stdout",
     "output_type": "stream",
     "text": [
      "(213, 15)\n"
     ]
    },
    {
     "data": {
      "text/html": [
       "<div>\n",
       "<style scoped>\n",
       "    .dataframe tbody tr th:only-of-type {\n",
       "        vertical-align: middle;\n",
       "    }\n",
       "\n",
       "    .dataframe tbody tr th {\n",
       "        vertical-align: top;\n",
       "    }\n",
       "\n",
       "    .dataframe thead th {\n",
       "        text-align: right;\n",
       "    }\n",
       "</style>\n",
       "<table border=\"1\" class=\"dataframe\">\n",
       "  <thead>\n",
       "    <tr style=\"text-align: right;\">\n",
       "      <th></th>\n",
       "      <th>Type_1</th>\n",
       "      <th>Type_2</th>\n",
       "      <th>Type_3</th>\n",
       "      <th>Type_5</th>\n",
       "      <th>Type_6</th>\n",
       "      <th>Type_7</th>\n",
       "      <th>RI</th>\n",
       "      <th>Na</th>\n",
       "      <th>Mg</th>\n",
       "      <th>Al</th>\n",
       "      <th>Si</th>\n",
       "      <th>K</th>\n",
       "      <th>Ca</th>\n",
       "      <th>Ba</th>\n",
       "      <th>Fe</th>\n",
       "    </tr>\n",
       "  </thead>\n",
       "  <tbody>\n",
       "    <tr>\n",
       "      <th>0</th>\n",
       "      <td>1</td>\n",
       "      <td>0</td>\n",
       "      <td>0</td>\n",
       "      <td>0</td>\n",
       "      <td>0</td>\n",
       "      <td>0</td>\n",
       "      <td>0.432836</td>\n",
       "      <td>0.437594</td>\n",
       "      <td>1.000000</td>\n",
       "      <td>0.252336</td>\n",
       "      <td>0.351786</td>\n",
       "      <td>0.009662</td>\n",
       "      <td>0.308550</td>\n",
       "      <td>0.0</td>\n",
       "      <td>0.0</td>\n",
       "    </tr>\n",
       "    <tr>\n",
       "      <th>1</th>\n",
       "      <td>1</td>\n",
       "      <td>0</td>\n",
       "      <td>0</td>\n",
       "      <td>0</td>\n",
       "      <td>0</td>\n",
       "      <td>0</td>\n",
       "      <td>0.283582</td>\n",
       "      <td>0.475188</td>\n",
       "      <td>0.801782</td>\n",
       "      <td>0.333333</td>\n",
       "      <td>0.521429</td>\n",
       "      <td>0.077295</td>\n",
       "      <td>0.223048</td>\n",
       "      <td>0.0</td>\n",
       "      <td>0.0</td>\n",
       "    </tr>\n",
       "    <tr>\n",
       "      <th>2</th>\n",
       "      <td>1</td>\n",
       "      <td>0</td>\n",
       "      <td>0</td>\n",
       "      <td>0</td>\n",
       "      <td>0</td>\n",
       "      <td>0</td>\n",
       "      <td>0.220808</td>\n",
       "      <td>0.421053</td>\n",
       "      <td>0.790646</td>\n",
       "      <td>0.389408</td>\n",
       "      <td>0.567857</td>\n",
       "      <td>0.062802</td>\n",
       "      <td>0.218401</td>\n",
       "      <td>0.0</td>\n",
       "      <td>0.0</td>\n",
       "    </tr>\n",
       "    <tr>\n",
       "      <th>3</th>\n",
       "      <td>1</td>\n",
       "      <td>0</td>\n",
       "      <td>0</td>\n",
       "      <td>0</td>\n",
       "      <td>0</td>\n",
       "      <td>0</td>\n",
       "      <td>0.285777</td>\n",
       "      <td>0.372932</td>\n",
       "      <td>0.821826</td>\n",
       "      <td>0.311526</td>\n",
       "      <td>0.500000</td>\n",
       "      <td>0.091787</td>\n",
       "      <td>0.259294</td>\n",
       "      <td>0.0</td>\n",
       "      <td>0.0</td>\n",
       "    </tr>\n",
       "    <tr>\n",
       "      <th>4</th>\n",
       "      <td>1</td>\n",
       "      <td>0</td>\n",
       "      <td>0</td>\n",
       "      <td>0</td>\n",
       "      <td>0</td>\n",
       "      <td>0</td>\n",
       "      <td>0.275241</td>\n",
       "      <td>0.381955</td>\n",
       "      <td>0.806236</td>\n",
       "      <td>0.295950</td>\n",
       "      <td>0.583929</td>\n",
       "      <td>0.088567</td>\n",
       "      <td>0.245353</td>\n",
       "      <td>0.0</td>\n",
       "      <td>0.0</td>\n",
       "    </tr>\n",
       "  </tbody>\n",
       "</table>\n",
       "</div>"
      ],
      "text/plain": [
       "   Type_1  Type_2  Type_3  Type_5  Type_6  Type_7        RI        Na  \\\n",
       "0       1       0       0       0       0       0  0.432836  0.437594   \n",
       "1       1       0       0       0       0       0  0.283582  0.475188   \n",
       "2       1       0       0       0       0       0  0.220808  0.421053   \n",
       "3       1       0       0       0       0       0  0.285777  0.372932   \n",
       "4       1       0       0       0       0       0  0.275241  0.381955   \n",
       "\n",
       "         Mg        Al        Si         K        Ca   Ba   Fe  \n",
       "0  1.000000  0.252336  0.351786  0.009662  0.308550  0.0  0.0  \n",
       "1  0.801782  0.333333  0.521429  0.077295  0.223048  0.0  0.0  \n",
       "2  0.790646  0.389408  0.567857  0.062802  0.218401  0.0  0.0  \n",
       "3  0.821826  0.311526  0.500000  0.091787  0.259294  0.0  0.0  \n",
       "4  0.806236  0.295950  0.583929  0.088567  0.245353  0.0  0.0  "
      ]
     },
     "execution_count": 12,
     "metadata": {},
     "output_type": "execute_result"
    }
   ],
   "source": [
    "binary_columns = [i for i in categorial_columns if len(df[i].unique()) == 2]\n",
    "nonbinary_columns = [i for i in categorial_columns if len(df[i].unique()) > 2]\n",
    "\n",
    "# для бинарных заменим значения на 1 и 0\n",
    "for col in binary_columns:\n",
    "    for i, unic_item in enumerate(df[col].unique()):\n",
    "        df[col] = df[col].replace(to_replace=[unic_item], value=[i])\n",
    "        \n",
    "# для не бинарых применим dummy-кодирование\n",
    "df_nonbinary = pd.get_dummies(df[nonbinary_columns])\n",
    "df.drop(nonbinary_columns, axis=1, inplace=True)\n",
    "df = pd.concat([df_nonbinary, df] , axis=1)\n",
    "\n",
    "print(df.shape)\n",
    "df.head()"
   ]
  },
  {
   "cell_type": "markdown",
   "metadata": {},
   "source": [
    "6.Оцените корреляцию между признаков и удалите те признаки, которые коррелируют с наибольшим числом других (удалять признаки нужно только для линейных методов классификации);"
   ]
  },
  {
   "cell_type": "code",
   "execution_count": 13,
   "metadata": {},
   "outputs": [
    {
     "data": {
      "image/png": "[encoded data removed]",
      "text/plain": [
       "<matplotlib.figure.Figure at 0xbf91e10>"
      ]
     },
     "metadata": {},
     "output_type": "display_data"
    }
   ],
   "source": [
    "df_corr = df.drop('RI', axis=1).corr()\n",
    "sns.heatmap(df_corr)\n",
    "plt.show()"
   ]
  },
  {
   "cell_type": "code",
   "execution_count": 14,
   "metadata": {},
   "outputs": [
    {
     "data": {
      "text/html": [
       "<div>\n",
       "<style scoped>\n",
       "    .dataframe tbody tr th:only-of-type {\n",
       "        vertical-align: middle;\n",
       "    }\n",
       "\n",
       "    .dataframe tbody tr th {\n",
       "        vertical-align: top;\n",
       "    }\n",
       "\n",
       "    .dataframe thead th {\n",
       "        text-align: right;\n",
       "    }\n",
       "</style>\n",
       "<table border=\"1\" class=\"dataframe\">\n",
       "  <thead>\n",
       "    <tr style=\"text-align: right;\">\n",
       "      <th></th>\n",
       "      <th>Type_1</th>\n",
       "      <th>Type_2</th>\n",
       "      <th>Type_3</th>\n",
       "      <th>Type_5</th>\n",
       "      <th>Type_6</th>\n",
       "      <th>Type_7</th>\n",
       "      <th>Na</th>\n",
       "      <th>Mg</th>\n",
       "      <th>Al</th>\n",
       "      <th>Si</th>\n",
       "      <th>K</th>\n",
       "      <th>Ca</th>\n",
       "      <th>Ba</th>\n",
       "      <th>Fe</th>\n",
       "    </tr>\n",
       "  </thead>\n",
       "  <tbody>\n",
       "    <tr>\n",
       "      <th>Type_1</th>\n",
       "      <td>1.000000</td>\n",
       "      <td>-0.515573</td>\n",
       "      <td>-0.203864</td>\n",
       "      <td>-0.176482</td>\n",
       "      <td>-0.145395</td>\n",
       "      <td>-0.274811</td>\n",
       "      <td>-0.149383</td>\n",
       "      <td>0.417816</td>\n",
       "      <td>-0.385551</td>\n",
       "      <td>-0.021175</td>\n",
       "      <td>-0.049453</td>\n",
       "      <td>-0.081749</td>\n",
       "      <td>-0.226950</td>\n",
       "      <td>0.003904</td>\n",
       "    </tr>\n",
       "    <tr>\n",
       "      <th>Type_2</th>\n",
       "      <td>-0.515573</td>\n",
       "      <td>1.000000</td>\n",
       "      <td>-0.219353</td>\n",
       "      <td>-0.189890</td>\n",
       "      <td>-0.156442</td>\n",
       "      <td>-0.295690</td>\n",
       "      <td>-0.267279</td>\n",
       "      <td>0.166981</td>\n",
       "      <td>-0.062212</td>\n",
       "      <td>-0.055022</td>\n",
       "      <td>0.025350</td>\n",
       "      <td>0.062620</td>\n",
       "      <td>-0.188206</td>\n",
       "      <td>0.171820</td>\n",
       "    </tr>\n",
       "    <tr>\n",
       "      <th>Type_3</th>\n",
       "      <td>-0.203864</td>\n",
       "      <td>-0.219353</td>\n",
       "      <td>1.000000</td>\n",
       "      <td>-0.075085</td>\n",
       "      <td>-0.061859</td>\n",
       "      <td>-0.116919</td>\n",
       "      <td>0.011919</td>\n",
       "      <td>0.176735</td>\n",
       "      <td>-0.147806</td>\n",
       "      <td>-0.095489</td>\n",
       "      <td>-0.041761</td>\n",
       "      <td>-0.035432</td>\n",
       "      <td>-0.098971</td>\n",
       "      <td>-0.000660</td>\n",
       "    </tr>\n",
       "    <tr>\n",
       "      <th>Type_5</th>\n",
       "      <td>-0.176482</td>\n",
       "      <td>-0.189890</td>\n",
       "      <td>-0.075085</td>\n",
       "      <td>1.000000</td>\n",
       "      <td>-0.053550</td>\n",
       "      <td>-0.101215</td>\n",
       "      <td>-0.180366</td>\n",
       "      <td>-0.337272</td>\n",
       "      <td>0.301124</td>\n",
       "      <td>-0.095392</td>\n",
       "      <td>0.379943</td>\n",
       "      <td>0.209649</td>\n",
       "      <td>0.006064</td>\n",
       "      <td>0.009145</td>\n",
       "    </tr>\n",
       "    <tr>\n",
       "      <th>Type_6</th>\n",
       "      <td>-0.145395</td>\n",
       "      <td>-0.156442</td>\n",
       "      <td>-0.061859</td>\n",
       "      <td>-0.053550</td>\n",
       "      <td>1.000000</td>\n",
       "      <td>-0.083387</td>\n",
       "      <td>0.320340</td>\n",
       "      <td>-0.200322</td>\n",
       "      <td>-0.035159</td>\n",
       "      <td>0.150041</td>\n",
       "      <td>-0.160799</td>\n",
       "      <td>0.059443</td>\n",
       "      <td>-0.074314</td>\n",
       "      <td>-0.123568</td>\n",
       "    </tr>\n",
       "    <tr>\n",
       "      <th>Type_7</th>\n",
       "      <td>-0.274811</td>\n",
       "      <td>-0.295690</td>\n",
       "      <td>-0.116919</td>\n",
       "      <td>-0.101215</td>\n",
       "      <td>-0.083387</td>\n",
       "      <td>1.000000</td>\n",
       "      <td>0.505778</td>\n",
       "      <td>-0.590119</td>\n",
       "      <td>0.540242</td>\n",
       "      <td>0.159787</td>\n",
       "      <td>-0.105822</td>\n",
       "      <td>-0.129132</td>\n",
       "      <td>0.690159</td>\n",
       "      <td>-0.178718</td>\n",
       "    </tr>\n",
       "    <tr>\n",
       "      <th>Na</th>\n",
       "      <td>-0.149383</td>\n",
       "      <td>-0.267279</td>\n",
       "      <td>0.011919</td>\n",
       "      <td>-0.180366</td>\n",
       "      <td>0.320340</td>\n",
       "      <td>0.505778</td>\n",
       "      <td>1.000000</td>\n",
       "      <td>-0.278420</td>\n",
       "      <td>0.167735</td>\n",
       "      <td>-0.064885</td>\n",
       "      <td>-0.264158</td>\n",
       "      <td>-0.278194</td>\n",
       "      <td>0.329080</td>\n",
       "      <td>-0.239374</td>\n",
       "    </tr>\n",
       "    <tr>\n",
       "      <th>Mg</th>\n",
       "      <td>0.417816</td>\n",
       "      <td>0.166981</td>\n",
       "      <td>0.176735</td>\n",
       "      <td>-0.337272</td>\n",
       "      <td>-0.200322</td>\n",
       "      <td>-0.590119</td>\n",
       "      <td>-0.278420</td>\n",
       "      <td>1.000000</td>\n",
       "      <td>-0.479575</td>\n",
       "      <td>-0.162437</td>\n",
       "      <td>0.007617</td>\n",
       "      <td>-0.446197</td>\n",
       "      <td>-0.491818</td>\n",
       "      <td>0.085426</td>\n",
       "    </tr>\n",
       "    <tr>\n",
       "      <th>Al</th>\n",
       "      <td>-0.385551</td>\n",
       "      <td>-0.062212</td>\n",
       "      <td>-0.147806</td>\n",
       "      <td>0.301124</td>\n",
       "      <td>-0.035159</td>\n",
       "      <td>0.540242</td>\n",
       "      <td>0.167735</td>\n",
       "      <td>-0.479575</td>\n",
       "      <td>1.000000</td>\n",
       "      <td>-0.016195</td>\n",
       "      <td>0.323683</td>\n",
       "      <td>-0.258068</td>\n",
       "      <td>0.480642</td>\n",
       "      <td>-0.080583</td>\n",
       "    </tr>\n",
       "    <tr>\n",
       "      <th>Si</th>\n",
       "      <td>-0.021175</td>\n",
       "      <td>-0.055022</td>\n",
       "      <td>-0.095489</td>\n",
       "      <td>-0.095392</td>\n",
       "      <td>0.150041</td>\n",
       "      <td>0.159787</td>\n",
       "      <td>-0.064885</td>\n",
       "      <td>-0.162437</td>\n",
       "      <td>-0.016195</td>\n",
       "      <td>1.000000</td>\n",
       "      <td>-0.197281</td>\n",
       "      <td>-0.207145</td>\n",
       "      <td>-0.104389</td>\n",
       "      <td>-0.097717</td>\n",
       "    </tr>\n",
       "    <tr>\n",
       "      <th>K</th>\n",
       "      <td>-0.049453</td>\n",
       "      <td>0.025350</td>\n",
       "      <td>-0.041761</td>\n",
       "      <td>0.379943</td>\n",
       "      <td>-0.160799</td>\n",
       "      <td>-0.105822</td>\n",
       "      <td>-0.264158</td>\n",
       "      <td>0.007617</td>\n",
       "      <td>0.323683</td>\n",
       "      <td>-0.197281</td>\n",
       "      <td>1.000000</td>\n",
       "      <td>-0.317032</td>\n",
       "      <td>-0.043653</td>\n",
       "      <td>-0.009372</td>\n",
       "    </tr>\n",
       "    <tr>\n",
       "      <th>Ca</th>\n",
       "      <td>-0.081749</td>\n",
       "      <td>0.062620</td>\n",
       "      <td>-0.035432</td>\n",
       "      <td>0.209649</td>\n",
       "      <td>0.059443</td>\n",
       "      <td>-0.129132</td>\n",
       "      <td>-0.278194</td>\n",
       "      <td>-0.446197</td>\n",
       "      <td>-0.258068</td>\n",
       "      <td>-0.207145</td>\n",
       "      <td>-0.317032</td>\n",
       "      <td>1.000000</td>\n",
       "      <td>-0.112208</td>\n",
       "      <td>0.126314</td>\n",
       "    </tr>\n",
       "    <tr>\n",
       "      <th>Ba</th>\n",
       "      <td>-0.226950</td>\n",
       "      <td>-0.188206</td>\n",
       "      <td>-0.098971</td>\n",
       "      <td>0.006064</td>\n",
       "      <td>-0.074314</td>\n",
       "      <td>0.690159</td>\n",
       "      <td>0.329080</td>\n",
       "      <td>-0.491818</td>\n",
       "      <td>0.480642</td>\n",
       "      <td>-0.104389</td>\n",
       "      <td>-0.043653</td>\n",
       "      <td>-0.112208</td>\n",
       "      <td>1.000000</td>\n",
       "      <td>-0.059729</td>\n",
       "    </tr>\n",
       "    <tr>\n",
       "      <th>Fe</th>\n",
       "      <td>0.003904</td>\n",
       "      <td>0.171820</td>\n",
       "      <td>-0.000660</td>\n",
       "      <td>0.009145</td>\n",
       "      <td>-0.123568</td>\n",
       "      <td>-0.178718</td>\n",
       "      <td>-0.239374</td>\n",
       "      <td>0.085426</td>\n",
       "      <td>-0.080583</td>\n",
       "      <td>-0.097717</td>\n",
       "      <td>-0.009372</td>\n",
       "      <td>0.126314</td>\n",
       "      <td>-0.059729</td>\n",
       "      <td>1.000000</td>\n",
       "    </tr>\n",
       "  </tbody>\n",
       "</table>\n",
       "</div>"
      ],
      "text/plain": [
       "          Type_1    Type_2    Type_3    Type_5    Type_6    Type_7        Na  \\\n",
       "Type_1  1.000000 -0.515573 -0.203864 -0.176482 -0.145395 -0.274811 -0.149383   \n",
       "Type_2 -0.515573  1.000000 -0.219353 -0.189890 -0.156442 -0.295690 -0.267279   \n",
       "Type_3 -0.203864 -0.219353  1.000000 -0.075085 -0.061859 -0.116919  0.011919   \n",
       "Type_5 -0.176482 -0.189890 -0.075085  1.000000 -0.053550 -0.101215 -0.180366   \n",
       "Type_6 -0.145395 -0.156442 -0.061859 -0.053550  1.000000 -0.083387  0.320340   \n",
       "Type_7 -0.274811 -0.295690 -0.116919 -0.101215 -0.083387  1.000000  0.505778   \n",
       "Na     -0.149383 -0.267279  0.011919 -0.180366  0.320340  0.505778  1.000000   \n",
       "Mg      0.417816  0.166981  0.176735 -0.337272 -0.200322 -0.590119 -0.278420   \n",
       "Al     -0.385551 -0.062212 -0.147806  0.301124 -0.035159  0.540242  0.167735   \n",
       "Si     -0.021175 -0.055022 -0.095489 -0.095392  0.150041  0.159787 -0.064885   \n",
       "K      -0.049453  0.025350 -0.041761  0.379943 -0.160799 -0.105822 -0.264158   \n",
       "Ca     -0.081749  0.062620 -0.035432  0.209649  0.059443 -0.129132 -0.278194   \n",
       "Ba     -0.226950 -0.188206 -0.098971  0.006064 -0.074314  0.690159  0.329080   \n",
       "Fe      0.003904  0.171820 -0.000660  0.009145 -0.123568 -0.178718 -0.239374   \n",
       "\n",
       "              Mg        Al        Si         K        Ca        Ba        Fe  \n",
       "Type_1  0.417816 -0.385551 -0.021175 -0.049453 -0.081749 -0.226950  0.003904  \n",
       "Type_2  0.166981 -0.062212 -0.055022  0.025350  0.062620 -0.188206  0.171820  \n",
       "Type_3  0.176735 -0.147806 -0.095489 -0.041761 -0.035432 -0.098971 -0.000660  \n",
       "Type_5 -0.337272  0.301124 -0.095392  0.379943  0.209649  0.006064  0.009145  \n",
       "Type_6 -0.200322 -0.035159  0.150041 -0.160799  0.059443 -0.074314 -0.123568  \n",
       "Type_7 -0.590119  0.540242  0.159787 -0.105822 -0.129132  0.690159 -0.178718  \n",
       "Na     -0.278420  0.167735 -0.064885 -0.264158 -0.278194  0.329080 -0.239374  \n",
       "Mg      1.000000 -0.479575 -0.162437  0.007617 -0.446197 -0.491818  0.085426  \n",
       "Al     -0.479575  1.000000 -0.016195  0.323683 -0.258068  0.480642 -0.080583  \n",
       "Si     -0.162437 -0.016195  1.000000 -0.197281 -0.207145 -0.104389 -0.097717  \n",
       "K       0.007617  0.323683 -0.197281  1.000000 -0.317032 -0.043653 -0.009372  \n",
       "Ca     -0.446197 -0.258068 -0.207145 -0.317032  1.000000 -0.112208  0.126314  \n",
       "Ba     -0.491818  0.480642 -0.104389 -0.043653 -0.112208  1.000000 -0.059729  \n",
       "Fe      0.085426 -0.080583 -0.097717 -0.009372  0.126314 -0.059729  1.000000  "
      ]
     },
     "execution_count": 14,
     "metadata": {},
     "output_type": "execute_result"
    }
   ],
   "source": [
    "df_corr\n"
   ]
  },
  {
   "cell_type": "markdown",
   "metadata": {},
   "source": [
    "7.Заполните пропущенные значения в данных"
   ]
  },
  {
   "cell_type": "code",
   "execution_count": 15,
   "metadata": {},
   "outputs": [
    {
     "name": "stdout",
     "output_type": "stream",
     "text": [
      "<class 'pandas.core.frame.DataFrame'>\n",
      "Int64Index: 213 entries, 0 to 213\n",
      "Data columns (total 15 columns):\n",
      "Type_1    213 non-null uint8\n",
      "Type_2    213 non-null uint8\n",
      "Type_3    213 non-null uint8\n",
      "Type_5    213 non-null uint8\n",
      "Type_6    213 non-null uint8\n",
      "Type_7    213 non-null uint8\n",
      "RI        213 non-null float64\n",
      "Na        213 non-null float64\n",
      "Mg        213 non-null float64\n",
      "Al        213 non-null float64\n",
      "Si        213 non-null float64\n",
      "K         213 non-null float64\n",
      "Ca        213 non-null float64\n",
      "Ba        213 non-null float64\n",
      "Fe        213 non-null float64\n",
      "dtypes: float64(9), uint8(6)\n",
      "memory usage: 27.9 KB\n"
     ]
    }
   ],
   "source": [
    "df.info()"
   ]
  },
  {
   "cell_type": "markdown",
   "metadata": {},
   "source": [
    "8.Решите поставленную задачу классификации в соответствии с заданием. При подборе параметров классификатора используйте метод GridSearchCV и перекрёстную проверку (изучите возможные для изменения параметры классификации). Определите схему построения многоклассового классификатора, используемую по умолчанию (опишите используемую схему кодирования, обоснуйте свой выбор). Постройте, если это возможно, многоклассовую классификацию на основе схем «один-против-всех» и «все-против-всех». Оцените точность классификации для каждой их схем. Постройте кривые PR и ROC (для каждого из классов должны быть построены отдельные кривые, а также кривые для микро и макроусреднения метрик качества). Для линейного классификатора используйте регуляризацию. \n",
    "\n",
    "\n",
    "    2 – классификатор K ближайших соседей (задаётся радиус для выбора ближайших объектов);\n",
    "    4 – логический классификатор (бинарное решающее дерево)."
   ]
  },
  {
   "cell_type": "code",
   "execution_count": 24,
   "metadata": {},
   "outputs": [
    {
     "name": "stdout",
     "output_type": "stream",
     "text": [
      "best train score: 0.9865771812080537 \t at features number: 11 \t at depth: 3\n",
      "test score:  0.984375\n"
     ]
    }
   ],
   "source": [
    "# Дерево\n",
    "dtc = DecisionTreeClassifier()\n",
    "X, y = df.drop('Type_6', axis=1), df['Type_6']\n",
    "X_train, X_test, y_train, y_test = train_test_split(X, y, test_size = 0.3, random_state = 123)\n",
    "params = {'max_depth': list(range(1,12)), 'max_features': list(range(1,12))}\n",
    "\n",
    "dtc_grid = GridSearchCV(dtc, params)\n",
    "dtc_grid.fit (X_train, y_train)\n",
    "\n",
    "best_features = dtc_grid.best_estimator_.max_features\n",
    "best_depth = dtc_grid.best_estimator_.max_depth\n",
    "best_score = dtc_grid.best_score_\n",
    "print('best train score:', best_score, \n",
    "      '\\t at features number:', best_features,\n",
    "      '\\t at depth:', best_depth)\n",
    "\n",
    "dtc = DecisionTreeClassifier(max_depth=best_depth, max_features=best_features)\n",
    "dtc.fit(X_train, y_train)\n",
    "best_score  = np.mean(y_test == dtc.predict(X_test))\n",
    "print('test score: ', best_score)"
   ]
  },
  {
   "cell_type": "code",
   "execution_count": 25,
   "metadata": {
    "scrolled": false
   },
   "outputs": [
    {
     "name": "stdout",
     "output_type": "stream",
     "text": [
      "best train score:  1.0 \t at neighbors number:  1\n"
     ]
    }
   ],
   "source": [
    "knn = neighbors.KNeighborsClassifier()\n",
    "params = {'n_neighbors': list(range(1, 30))}\n",
    "knn_grid = GridSearchCV(knn, params)\n",
    "knn_grid.fit(X_train, y_train)\n",
    "best_num = knn_grid.best_estimator_.n_neighbors\n",
    "best_score = knn_grid.best_score_\n",
    "\n",
    "print('best train score: ', best_score,\n",
    "      '\\t at neighbors number: ', best_num)"
   ]
  },
  {
   "cell_type": "code",
   "execution_count": 26,
   "metadata": {
    "scrolled": false
   },
   "outputs": [
    {
     "data": {
      "image/png": "[encoded data removed]",
      "text/plain": [
       "<matplotlib.figure.Figure at 0xcd2f4a8>"
      ]
     },
     "metadata": {},
     "output_type": "display_data"
    },
    {
     "data": {
      "image/png": "[encoded data removed]",
      "text/plain": [
       "<matplotlib.figure.Figure at 0xcd52240>"
      ]
     },
     "metadata": {},
     "output_type": "display_data"
    }
   ],
   "source": [
    "plt.figure(figsize=(10,8))\n",
    "# K соседей\n",
    "knn = KNeighborsClassifier ( n_neighbors =best_num)\n",
    "probas_knn0 = knn.fit(X_train, y_train).predict_proba (X_test)\n",
    "tpr, fpr, thresholds = roc_curve(y_test, probas_knn0[:,0])\n",
    "roc_auc  = auc(fpr, tpr)\n",
    "plt.plot(fpr, tpr, label='%s ROC (area = %f)' % ('KNeighborsClassifier', roc_auc)) \n",
    "\n",
    "# решающее дерево\n",
    "dtc = DecisionTreeClassifier(max_depth=best_depth, max_features=best_features)\n",
    "probas_dtc0 = dtc.fit(X_train, y_train).predict_proba (X_test)\n",
    "tpr, fpr, thresholds = roc_curve(y_test, probas_dtc0[:,0])\n",
    "roc_auc  = auc (fpr, tpr)\n",
    "plt.plot(fpr, tpr, label='%s ROC (area = %f)' % ('DecisionTreeClassifier', roc_auc))   \n",
    "\n",
    "# вывод графика\n",
    "plt.plot([0, 1], [0, 1], 'k--')\n",
    "plt.xlim([0.0, 1.0])\n",
    "plt.ylim([0.0, 1.0])\n",
    "plt.xlabel('False Positive Rate')\n",
    "plt.ylabel('True Positive Rate')\n",
    "plt.legend(loc=4, fontsize='medium')\n",
    "plt.title('not Ca')\n",
    "plt.show()\n",
    "\n",
    "\n",
    "plt.figure(figsize=(10,8))\n",
    "# K соседей\n",
    "knn = KNeighborsClassifier( n_neighbors = best_num)\n",
    "probas_knn1 = knn.fit(X_train, y_train).predict_proba (X_test)\n",
    "fpr, tpr, thresholds = roc_curve(y_test, probas_knn1[:,1])\n",
    "roc_auc  = auc(fpr, tpr)\n",
    "plt.plot(fpr, tpr, label='%s ROC (area = %f)' % ('KNeighborsClassifier', roc_auc)) \n",
    "# решающее дерево\n",
    "dtc = DecisionTreeClassifier(max_depth=best_depth, max_features=best_features)\n",
    "probas_dtc1 = dtc.fit(X_train, y_train).predict_proba(X_test)\n",
    "fpr, tpr, thresholds = roc_curve(y_test, probas_dtc1[:,1])\n",
    "roc_auc  = auc(fpr, tpr)\n",
    "plt.plot(fpr, tpr, label='%s ROC (area = %f)' % ('DecisionTreeClassifier', roc_auc))   \n",
    "# вывод графика\n",
    "plt.plot([0, 1], [0, 1], 'k--')\n",
    "plt.xlim([0.0, 1.0])\n",
    "plt.ylim([0.0, 1.0])\n",
    "plt.xlabel('False Positive Rate')\n",
    "plt.ylabel('True Positive Rate')\n",
    "plt.legend(loc=4, fontsize='medium')\n",
    "plt.title('Ca')\n",
    "plt.show()"
   ]
  },
  {
   "cell_type": "code",
   "execution_count": 27,
   "metadata": {},
   "outputs": [
    {
     "data": {
      "image/png": "[encoded data removed]",
      "text/plain": [
       "<matplotlib.figure.Figure at 0xcd2e390>"
      ]
     },
     "metadata": {},
     "output_type": "display_data"
    },
    {
     "data": {
      "image/png": "[encoded data removed]",
      "text/plain": [
       "<matplotlib.figure.Figure at 0xd16f710>"
      ]
     },
     "metadata": {},
     "output_type": "display_data"
    }
   ],
   "source": [
    "plt.figure(figsize=(10,8))\n",
    "y_test_invers = []\n",
    "for i, y in enumerate(y_test.reset_index(drop=True)):\n",
    "    y_test_invers.append(1-y)\n",
    "# K соседей\n",
    "precision, recall, thresholds = precision_recall_curve(y_test_invers, probas_knn1[:,0])\n",
    "aps_knn1 = average_precision_score(y_test_invers,probas_knn1[:,0])\n",
    "plt.plot(recall, precision, label='%s PR (area = %f)' % ('KNeighborsClassifier', aps_knn1)) \n",
    "# решающее дерево\n",
    "precision, recall, thresholds = precision_recall_curve(y_test_invers, probas_dtc1[:,0])\n",
    "aps_dtc1 = average_precision_score(y_test_invers,probas_dtc1[:,0])\n",
    "plt.plot(recall, precision, label='%s PR (area = %f)' % ('DecisionTreeClassifier',  aps_dtc1)) \n",
    "# вывод графика\n",
    "plt.xlabel('Recall')\n",
    "plt.ylabel('Precision')\n",
    "plt.xlim([0.0, 1.0])\n",
    "plt.ylim([0.0, 1.0])\n",
    "plt.legend(loc=4, fontsize='medium')\n",
    "plt.title('not Ca')\n",
    "plt.show()\n",
    "\n",
    "\n",
    "plt.figure(figsize=(10,8))\n",
    "# K соседей\n",
    "precision, recall, thresholds = precision_recall_curve(y_test, probas_knn0[:,1])\n",
    "aps_knn0 = average_precision_score(y_test,probas_knn0[:,1])\n",
    "plt.plot(recall, precision, label='%s PR (area = %f)' % ('KNeighborsClassifier', aps_knn0)) \n",
    "# решающее дерево\n",
    "precision, recall, thresholds = precision_recall_curve(y_test, probas_dtc1[:,1])\n",
    "aps_dtc1 = average_precision_score(y_test,probas_dtc1[:,1])\n",
    "plt.plot(recall, precision, label='%s PR (area = %f)' % ('DecisionTreeClassifier',  aps_dtc1)) \n",
    "# вывод графика\n",
    "plt.xlabel('Recall')\n",
    "plt.ylabel('Precision')\n",
    "plt.xlim([0.0, 1.0])\n",
    "plt.ylim([0.0, 1.0])\n",
    "plt.legend(loc=4, fontsize='medium')\n",
    "plt.title('Ca')\n",
    "plt.show()"
   ]
  },
  {
   "cell_type": "markdown",
   "metadata": {},
   "source": [
    "Вывод:\n",
    "Классификаторы дерево принятия решений и k ближайших соседей. Классификаторы работают неправильно , тк мало данных и они не сбалансированы."
   ]
  },
  {
   "cell_type": "code",
   "execution_count": null,
   "metadata": {},
   "outputs": [],
   "source": []
  }
 ],
 "metadata": {
  "kernelspec": {
   "display_name": "Python 3",
   "language": "python",
   "name": "python3"
  },
  "language_info": {
   "codemirror_mode": {
    "name": "ipython",
    "version": 3
   },
   "file_extension": ".py",
   "mimetype": "text/x-python",
   "name": "python",
   "nbconvert_exporter": "python",
   "pygments_lexer": "ipython3",
   "version": "3.6.3"
  }
 },
 "nbformat": 4,
 "nbformat_minor": 2
}
