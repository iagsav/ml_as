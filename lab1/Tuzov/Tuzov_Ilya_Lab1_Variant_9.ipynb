{
 "cells": [
  {
   "cell_type": "markdown",
   "metadata": {},
   "source": [
    "### Тузов Илья Алексеевич. Вариант 9.\n",
    "\n",
    "NBA\n",
    "1. Определите игрока, принявшего участие в наибольшем числе игр.\n",
    "2. Вычислите корреляцию Пирсона и Спирмена между признаками Age и G. Сравните полученные величины корреляции. Постройте гистограммы для указанных признаков. Оцените значение p-value.\n",
    "3. Определите год, в котором наиболее интенсивно играли в баскетбол.\n",
    "4. Определите позицию (Pos), находящийся на которой игрок наиболее и наименее результативен (PTS).\n",
    "5. Постройте гистограмму по FG(Field Goals).\n",
    "6. Удалите строки с нулевыми значениями в данных.\n",
    "7. Добавьте в набор данных признак, являющийся произведением двух других признаков.\n",
    "8. Определите самое популярное имя среди игроков.\n"
   ]
  },
  {
   "cell_type": "markdown",
   "metadata": {},
   "source": [
    "#### 1."
   ]
  },
  {
   "cell_type": "code",
   "execution_count": 62,
   "metadata": {},
   "outputs": [
    {
     "name": "stdout",
     "output_type": "stream",
     "text": [
      "<class 'pandas.core.frame.DataFrame'>\n",
      "RangeIndex: 24691 entries, 0 to 24690\n",
      "Data columns (total 53 columns):\n",
      "Unnamed: 0    24691 non-null int64\n",
      "Year          24624 non-null float64\n",
      "Player        24624 non-null object\n",
      "Pos           24624 non-null object\n",
      "Age           24616 non-null float64\n",
      "Tm            24624 non-null object\n",
      "G             24624 non-null float64\n",
      "GS            18233 non-null float64\n",
      "MP            24138 non-null float64\n",
      "PER           24101 non-null float64\n",
      "TS%           24538 non-null float64\n",
      "3PAr          18839 non-null float64\n",
      "FTr           24525 non-null float64\n",
      "ORB%          20792 non-null float64\n",
      "DRB%          20792 non-null float64\n",
      "TRB%          21571 non-null float64\n",
      "AST%          22555 non-null float64\n",
      "STL%          20792 non-null float64\n",
      "BLK%          20792 non-null float64\n",
      "TOV%          19582 non-null float64\n",
      "USG%          19640 non-null float64\n",
      "blanl         0 non-null float64\n",
      "OWS           24585 non-null float64\n",
      "DWS           24585 non-null float64\n",
      "WS            24585 non-null float64\n",
      "WS/48         24101 non-null float64\n",
      "blank2        0 non-null float64\n",
      "OBPM          20797 non-null float64\n",
      "DBPM          20797 non-null float64\n",
      "BPM           20797 non-null float64\n",
      "VORP          20797 non-null float64\n",
      "FG            24624 non-null float64\n",
      "FGA           24624 non-null float64\n",
      "FG%           24525 non-null float64\n",
      "3P            18927 non-null float64\n",
      "3PA           18927 non-null float64\n",
      "3P%           15416 non-null float64\n",
      "2P            24624 non-null float64\n",
      "2PA           24624 non-null float64\n",
      "2P%           24496 non-null float64\n",
      "eFG%          24525 non-null float64\n",
      "FT            24624 non-null float64\n",
      "FTA           24624 non-null float64\n",
      "FT%           23766 non-null float64\n",
      "ORB           20797 non-null float64\n",
      "DRB           20797 non-null float64\n",
      "TRB           24312 non-null float64\n",
      "AST           24624 non-null float64\n",
      "STL           20797 non-null float64\n",
      "BLK           20797 non-null float64\n",
      "TOV           19645 non-null float64\n",
      "PF            24624 non-null float64\n",
      "PTS           24624 non-null float64\n",
      "dtypes: float64(49), int64(1), object(3)\n",
      "memory usage: 10.0+ MB\n",
      "-----\n",
      "Player\n",
      "Eddie Johnson    2078.0\n",
      "Name: G, dtype: float64\n"
     ]
    }
   ],
   "source": [
    "import pandas as pd\n",
    "import seaborn as sbr\n",
    "import matplotlib.pyplot as plt\n",
    "from scipy.stats import pearsonr\n",
    "\n",
    "nba = pd.read_csv('C:\\work_dir\\lab\\!data\\9_nba\\Seasons_Stats.csv');\n",
    "nba.info()\n",
    "nba = nba.drop_duplicates()\n",
    "print('-----')\n",
    "maxGames = nba.groupby(['Player'])['G'].agg('sum') #1\n",
    "print(maxGames[maxGames[:] == maxGames[:].max()])"
   ]
  },
  {
   "cell_type": "markdown",
   "metadata": {},
   "source": [
    "#### 2."
   ]
  },
  {
   "cell_type": "code",
   "execution_count": 38,
   "metadata": {},
   "outputs": [
    {
     "name": "stdout",
     "output_type": "stream",
     "text": [
      "          Age         G\n",
      "Age  1.000000  0.027398\n",
      "G    0.027398  1.000000\n",
      "p-value\n",
      "(0.027397610786996558, 1.714673862796359e-05)\n"
     ]
    },
    {
     "data": {
      "image/png": "[encoded data removed]",
      "text/plain": [
       "<matplotlib.figure.Figure at 0xa1977279e8>"
      ]
     },
     "metadata": {},
     "output_type": "display_data"
    }
   ],
   "source": [
    "print(nba[['Age', 'G']].corr(method = 'pearson'))\n",
    "nba['Age'].plot.hist(bins = 10)\n",
    "print('p-value')\n",
    "pValueValues = nba[['Age', 'G']]\n",
    "pValueValues = pValueValues[(pValueValues['Age'] > 0) & (pValueValues['G'] > 0)]\n",
    "print(pearsonr(pValueValues['Age'], pValueValues['G']))"
   ]
  },
  {
   "cell_type": "code",
   "execution_count": 39,
   "metadata": {},
   "outputs": [
    {
     "name": "stdout",
     "output_type": "stream",
     "text": [
      "          Age         G\n",
      "Age  1.000000  0.038425\n",
      "G    0.038425  1.000000\n"
     ]
    },
    {
     "data": {
      "text/plain": [
       "<matplotlib.axes._subplots.AxesSubplot at 0xa197776ac8>"
      ]
     },
     "execution_count": 39,
     "metadata": {},
     "output_type": "execute_result"
    },
    {
     "data": {
      "image/png": "[encoded data removed]",
      "text/plain": [
       "<matplotlib.figure.Figure at 0xa193ce0630>"
      ]
     },
     "metadata": {},
     "output_type": "display_data"
    }
   ],
   "source": [
    "print(nba[['Age', 'G']].corr(method = 'spearman'))\n",
    "nba['G'].plot.hist(bins = 10)"
   ]
  },
  {
   "cell_type": "markdown",
   "metadata": {},
   "source": [
    "#### 3"
   ]
  },
  {
   "cell_type": "code",
   "execution_count": 64,
   "metadata": {},
   "outputs": [
    {
     "name": "stdout",
     "output_type": "stream",
     "text": [
      "count       68.000000\n",
      "mean     18409.014706\n",
      "std       8214.448475\n",
      "min       5569.000000\n",
      "25%       9776.750000\n",
      "50%      20206.000000\n",
      "75%      25706.750000\n",
      "max      29920.000000\n",
      "Name: G, dtype: float64\n",
      "----------\n",
      "Year\n",
      "2015.0    29920.0\n",
      "Name: G, dtype: float64\n"
     ]
    }
   ],
   "source": [
    "plays = nba.groupby(['Year'])['G'].agg('sum')\n",
    "print(plays.describe())\n",
    "print('----------')\n",
    "print(plays[plays[:] == plays[:].max()])"
   ]
  },
  {
   "cell_type": "markdown",
   "metadata": {},
   "source": [
    "#### 4"
   ]
  },
  {
   "cell_type": "code",
   "execution_count": 41,
   "metadata": {},
   "outputs": [
    {
     "name": "stdout",
     "output_type": "stream",
     "text": [
      "Pos\n",
      "SG    1026059.0\n",
      "Name: FG, dtype: float64\n",
      "Pos\n",
      "C-SF    195.0\n",
      "Name: FG, dtype: float64\n"
     ]
    }
   ],
   "source": [
    "results = nba.groupby(['Pos'])['FG'].agg('sum') #4\n",
    "print(results[results[:] == results[:].max()])\n",
    "print(results[results[:] == results[:].min()])"
   ]
  },
  {
   "cell_type": "markdown",
   "metadata": {},
   "source": [
    "#### 5"
   ]
  },
  {
   "cell_type": "code",
   "execution_count": 45,
   "metadata": {},
   "outputs": [
    {
     "data": {
      "text/plain": [
       "<matplotlib.axes._subplots.AxesSubplot at 0xa1978c7c18>"
      ]
     },
     "execution_count": 45,
     "metadata": {},
     "output_type": "execute_result"
    },
    {
     "data": {
      "image/png": "[encoded data removed]",
      "text/plain": [
       "<matplotlib.figure.Figure at 0xa197917358>"
      ]
     },
     "metadata": {},
     "output_type": "display_data"
    }
   ],
   "source": [
    "nba.FG.plot.hist() #FieldGoals"
   ]
  },
  {
   "cell_type": "markdown",
   "metadata": {},
   "source": [
    "#### 6"
   ]
  },
  {
   "cell_type": "code",
   "execution_count": 47,
   "metadata": {},
   "outputs": [
    {
     "name": "stdout",
     "output_type": "stream",
     "text": [
      "Empty DataFrame\n",
      "Columns: [Unnamed: 0, Year, Player, Pos, Age, Tm, G, GS, MP, PER, TS%, 3PAr, FTr, ORB%, DRB%, TRB%, AST%, STL%, BLK%, TOV%, USG%, blanl, OWS, DWS, WS, WS/48, blank2, OBPM, DBPM, BPM, VORP, FG, FGA, FG%, 3P, 3PA, 3P%, 2P, 2PA, 2P%, eFG%, FT, FTA, FT%, ORB, DRB, TRB, AST, STL, BLK, TOV, PF, PTS]\n",
      "Index: []\n",
      "\n",
      "[0 rows x 53 columns]\n"
     ]
    }
   ],
   "source": [
    "print(nba.dropna())"
   ]
  },
  {
   "cell_type": "markdown",
   "metadata": {},
   "source": [
    "#### 7"
   ]
  },
  {
   "cell_type": "code",
   "execution_count": 48,
   "metadata": {},
   "outputs": [
    {
     "name": "stdout",
     "output_type": "stream",
     "text": [
      "   Unnamed: 0    Year           Player  Pos   Age   Tm     G  GS  MP  PER  \\\n",
      "0           0  1950.0  Curly Armstrong  G-F  31.0  FTW  63.0 NaN NaN  NaN   \n",
      "1           1  1950.0     Cliff Barker   SG  29.0  INO  49.0 NaN NaN  NaN   \n",
      "2           2  1950.0    Leo Barnhorst   SF  25.0  CHS  67.0 NaN NaN  NaN   \n",
      "3           3  1950.0       Ed Bartels    F  24.0  TOT  15.0 NaN NaN  NaN   \n",
      "4           4  1950.0       Ed Bartels    F  24.0  DNN  13.0 NaN NaN  NaN   \n",
      "\n",
      "    ...    ORB  DRB  TRB    AST  STL  BLK  TOV     PF    PTS      GA  \n",
      "0   ...    NaN  NaN  NaN  176.0  NaN  NaN  NaN  217.0  458.0  4464.0  \n",
      "1   ...    NaN  NaN  NaN  109.0  NaN  NaN  NaN   99.0  279.0  2958.0  \n",
      "2   ...    NaN  NaN  NaN  140.0  NaN  NaN  NaN  192.0  438.0  4350.0  \n",
      "3   ...    NaN  NaN  NaN   20.0  NaN  NaN  NaN   29.0   63.0   528.0  \n",
      "4   ...    NaN  NaN  NaN   20.0  NaN  NaN  NaN   27.0   59.0   504.0  \n",
      "\n",
      "[5 rows x 54 columns]\n"
     ]
    }
   ],
   "source": [
    "nba['GA'] = nba['FG'] * nba['Age'] #GA = Filed Goals * Age\n",
    "print(nba.head())"
   ]
  },
  {
   "cell_type": "markdown",
   "metadata": {},
   "source": [
    "#### 8"
   ]
  },
  {
   "cell_type": "code",
   "execution_count": 53,
   "metadata": {},
   "outputs": [
    {
     "name": "stdout",
     "output_type": "stream",
     "text": [
      "John\n",
      "75\n"
     ]
    }
   ],
   "source": [
    "players = set(nba['Player'])\n",
    "trueDataTypelist = [] \n",
    "for element in players:\n",
    "    if type(element) == str:\n",
    "        name = element.split(' ')\n",
    "        trueDataTypelist.append(name[0])\n",
    "number = 0\n",
    "j = 0\n",
    "count = 0\n",
    "for element in trueDataTypelist:\n",
    "    if trueDataTypelist.count(element) > count:\n",
    "        count = trueDataTypelist.count(element)\n",
    "        number = j\n",
    "    j += 1    \n",
    "print(trueDataTypelist.pop(number))\n",
    "print(count)"
   ]
  },
  {
   "cell_type": "code",
   "execution_count": null,
   "metadata": {},
   "outputs": [],
   "source": []
  }
 ],
 "metadata": {
  "kernelspec": {
   "display_name": "Python 3",
   "language": "python",
   "name": "python3"
  },
  "language_info": {
   "codemirror_mode": {
    "name": "ipython",
    "version": 3
   },
   "file_extension": ".py",
   "mimetype": "text/x-python",
   "name": "python",
   "nbconvert_exporter": "python",
   "pygments_lexer": "ipython3",
   "version": "3.6.4"
  }
 },
 "nbformat": 4,
 "nbformat_minor": 2
}
