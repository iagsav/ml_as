{
 "cells": [
  {
   "cell_type": "markdown",
   "metadata": {},
   "source": [
    "### Лабораторная работа №1\n",
    "### Вариант 5"
   ]
  },
  {
   "cell_type": "code",
   "execution_count": 20,
   "metadata": {},
   "outputs": [
    {
     "data": {
      "text/html": [
       "<div>\n",
       "<style scoped>\n",
       "    .dataframe tbody tr th:only-of-type {\n",
       "        vertical-align: middle;\n",
       "    }\n",
       "\n",
       "    .dataframe tbody tr th {\n",
       "        vertical-align: top;\n",
       "    }\n",
       "\n",
       "    .dataframe thead th {\n",
       "        text-align: right;\n",
       "    }\n",
       "</style>\n",
       "<table border=\"1\" class=\"dataframe\">\n",
       "  <thead>\n",
       "    <tr style=\"text-align: right;\">\n",
       "      <th></th>\n",
       "      <th>Peak Brightness Date/Time (UT)</th>\n",
       "      <th>Latitude (deg.)</th>\n",
       "      <th>Longitude (deg.)</th>\n",
       "      <th>Altitude (km)</th>\n",
       "      <th>Velocity (km/s)</th>\n",
       "      <th>vx</th>\n",
       "      <th>vy</th>\n",
       "      <th>vz</th>\n",
       "      <th>Total Radiated Energy (J)</th>\n",
       "      <th>Calculated Total Impact Energy (kt)</th>\n",
       "    </tr>\n",
       "  </thead>\n",
       "  <tbody>\n",
       "    <tr>\n",
       "      <th>0</th>\n",
       "      <td>2017-07-31 22:01:35</td>\n",
       "      <td>24.7N</td>\n",
       "      <td>118.5W</td>\n",
       "      <td>NaN</td>\n",
       "      <td>NaN</td>\n",
       "      <td>NaN</td>\n",
       "      <td>NaN</td>\n",
       "      <td>NaN</td>\n",
       "      <td>5.800000e+10</td>\n",
       "      <td>0.19</td>\n",
       "    </tr>\n",
       "    <tr>\n",
       "      <th>1</th>\n",
       "      <td>2017-07-23 06:12:38</td>\n",
       "      <td>6.6S</td>\n",
       "      <td>69.7W</td>\n",
       "      <td>38.0</td>\n",
       "      <td>17.2</td>\n",
       "      <td>-0.4</td>\n",
       "      <td>8.7</td>\n",
       "      <td>-14.8</td>\n",
       "      <td>3.500000e+10</td>\n",
       "      <td>0.12</td>\n",
       "    </tr>\n",
       "    <tr>\n",
       "      <th>2</th>\n",
       "      <td>2017-07-13 09:30:36</td>\n",
       "      <td>23.1N</td>\n",
       "      <td>60.7E</td>\n",
       "      <td>35.0</td>\n",
       "      <td>13.7</td>\n",
       "      <td>-10.0</td>\n",
       "      <td>-6.5</td>\n",
       "      <td>-6.8</td>\n",
       "      <td>7.300000e+10</td>\n",
       "      <td>0.23</td>\n",
       "    </tr>\n",
       "    <tr>\n",
       "      <th>3</th>\n",
       "      <td>2017-06-30 14:26:45</td>\n",
       "      <td>34.3S</td>\n",
       "      <td>134.5E</td>\n",
       "      <td>20.0</td>\n",
       "      <td>15.2</td>\n",
       "      <td>10.9</td>\n",
       "      <td>-9.7</td>\n",
       "      <td>4.2</td>\n",
       "      <td>9.400000e+10</td>\n",
       "      <td>0.29</td>\n",
       "    </tr>\n",
       "    <tr>\n",
       "      <th>4</th>\n",
       "      <td>2017-06-23 20:21:55</td>\n",
       "      <td>57.0N</td>\n",
       "      <td>143.7E</td>\n",
       "      <td>35.1</td>\n",
       "      <td>24.3</td>\n",
       "      <td>17.7</td>\n",
       "      <td>13.1</td>\n",
       "      <td>-10.3</td>\n",
       "      <td>1.840000e+11</td>\n",
       "      <td>0.52</td>\n",
       "    </tr>\n",
       "  </tbody>\n",
       "</table>\n",
       "</div>"
      ],
      "text/plain": [
       "  Peak Brightness Date/Time (UT) Latitude (deg.) Longitude (deg.)  \\\n",
       "0            2017-07-31 22:01:35           24.7N           118.5W   \n",
       "1            2017-07-23 06:12:38            6.6S            69.7W   \n",
       "2            2017-07-13 09:30:36           23.1N            60.7E   \n",
       "3            2017-06-30 14:26:45           34.3S           134.5E   \n",
       "4            2017-06-23 20:21:55           57.0N           143.7E   \n",
       "\n",
       "   Altitude (km)  Velocity (km/s)    vx    vy    vz  \\\n",
       "0            NaN              NaN   NaN   NaN   NaN   \n",
       "1           38.0             17.2  -0.4   8.7 -14.8   \n",
       "2           35.0             13.7 -10.0  -6.5  -6.8   \n",
       "3           20.0             15.2  10.9  -9.7   4.2   \n",
       "4           35.1             24.3  17.7  13.1 -10.3   \n",
       "\n",
       "   Total Radiated Energy (J)  Calculated Total Impact Energy (kt)  \n",
       "0               5.800000e+10                                 0.19  \n",
       "1               3.500000e+10                                 0.12  \n",
       "2               7.300000e+10                                 0.23  \n",
       "3               9.400000e+10                                 0.29  \n",
       "4               1.840000e+11                                 0.52  "
      ]
     },
     "execution_count": 20,
     "metadata": {},
     "output_type": "execute_result"
    }
   ],
   "source": [
    "% matplotlib inline\n",
    "import matplotlib.pyplot as plt\n",
    "import pandas as pd\n",
    "import numpy as np\n",
    "import scipy.stats as stats\n",
    "\n",
    "TOTAL_RADIATED_ENERGY = 'Total Radiated Energy (J)'\n",
    "LATITUDE = 'Latitude (deg.)'\n",
    "LONGITUDE = 'Longitude (deg.)'\n",
    "ALTITUDE = 'Altitude (km)'\n",
    "VELOCITY = 'Velocity (km/s)'\n",
    "PEAK_BRIGHTNESS = 'Peak Brightness Date/Time (UT)'\n",
    "\n",
    "x = pd.read_csv('cneos_fireball_data.csv')\n",
    "data_pandas = pd.DataFrame(x)\n",
    "data_pandas.head()"
   ]
  },
  {
   "cell_type": "markdown",
   "metadata": {},
   "source": [
    "### 1)Местоположение появления метеорита с наибольшим количеством высвободившейся энергии:"
   ]
  },
  {
   "cell_type": "code",
   "execution_count": 21,
   "metadata": {
    "scrolled": false
   },
   "outputs": [
    {
     "data": {
      "text/html": [
       "<div>\n",
       "<style scoped>\n",
       "    .dataframe tbody tr th:only-of-type {\n",
       "        vertical-align: middle;\n",
       "    }\n",
       "\n",
       "    .dataframe tbody tr th {\n",
       "        vertical-align: top;\n",
       "    }\n",
       "\n",
       "    .dataframe thead th {\n",
       "        text-align: right;\n",
       "    }\n",
       "</style>\n",
       "<table border=\"1\" class=\"dataframe\">\n",
       "  <thead>\n",
       "    <tr style=\"text-align: right;\">\n",
       "      <th></th>\n",
       "      <th>Latitude (deg.)</th>\n",
       "      <th>Longitude (deg.)</th>\n",
       "      <th>Altitude (km)</th>\n",
       "      <th>Total Radiated Energy (J)</th>\n",
       "    </tr>\n",
       "  </thead>\n",
       "  <tbody>\n",
       "    <tr>\n",
       "      <th>146</th>\n",
       "      <td>54.8N</td>\n",
       "      <td>61.1E</td>\n",
       "      <td>23.3</td>\n",
       "      <td>3.750000e+14</td>\n",
       "    </tr>\n",
       "  </tbody>\n",
       "</table>\n",
       "</div>"
      ],
      "text/plain": [
       "    Latitude (deg.) Longitude (deg.)  Altitude (km)  Total Radiated Energy (J)\n",
       "146           54.8N            61.1E           23.3               3.750000e+14"
      ]
     },
     "execution_count": 21,
     "metadata": {},
     "output_type": "execute_result"
    }
   ],
   "source": [
    "max_radiated_energy = data_pandas[TOTAL_RADIATED_ENERGY].max()\n",
    "data_pandas[data_pandas[TOTAL_RADIATED_ENERGY] == max_radiated_energy][[LATITUDE, LONGITUDE, ALTITUDE, TOTAL_RADIATED_ENERGY]]"
   ]
  },
  {
   "cell_type": "markdown",
   "metadata": {},
   "source": [
    "### 2)Определите метеорит с максимальной и минимальной скоростью:\n",
    "\n",
    "#### Max:"
   ]
  },
  {
   "cell_type": "code",
   "execution_count": 22,
   "metadata": {
    "scrolled": true
   },
   "outputs": [
    {
     "data": {
      "text/html": [
       "<div>\n",
       "<style scoped>\n",
       "    .dataframe tbody tr th:only-of-type {\n",
       "        vertical-align: middle;\n",
       "    }\n",
       "\n",
       "    .dataframe tbody tr th {\n",
       "        vertical-align: top;\n",
       "    }\n",
       "\n",
       "    .dataframe thead th {\n",
       "        text-align: right;\n",
       "    }\n",
       "</style>\n",
       "<table border=\"1\" class=\"dataframe\">\n",
       "  <thead>\n",
       "    <tr style=\"text-align: right;\">\n",
       "      <th></th>\n",
       "      <th>Peak Brightness Date/Time (UT)</th>\n",
       "      <th>Latitude (deg.)</th>\n",
       "      <th>Longitude (deg.)</th>\n",
       "      <th>Altitude (km)</th>\n",
       "      <th>Velocity (km/s)</th>\n",
       "      <th>vx</th>\n",
       "      <th>vy</th>\n",
       "      <th>vz</th>\n",
       "      <th>Total Radiated Energy (J)</th>\n",
       "      <th>Calculated Total Impact Energy (kt)</th>\n",
       "    </tr>\n",
       "  </thead>\n",
       "  <tbody>\n",
       "    <tr>\n",
       "      <th>67</th>\n",
       "      <td>2015-07-04 01:40:11</td>\n",
       "      <td>38.6N</td>\n",
       "      <td>103.1E</td>\n",
       "      <td>46.3</td>\n",
       "      <td>49.0</td>\n",
       "      <td>0.9</td>\n",
       "      <td>-40.4</td>\n",
       "      <td>-27.7</td>\n",
       "      <td>5.600000e+10</td>\n",
       "      <td>0.18</td>\n",
       "    </tr>\n",
       "  </tbody>\n",
       "</table>\n",
       "</div>"
      ],
      "text/plain": [
       "   Peak Brightness Date/Time (UT) Latitude (deg.) Longitude (deg.)  \\\n",
       "67            2015-07-04 01:40:11           38.6N           103.1E   \n",
       "\n",
       "    Altitude (km)  Velocity (km/s)   vx    vy    vz  \\\n",
       "67           46.3             49.0  0.9 -40.4 -27.7   \n",
       "\n",
       "    Total Radiated Energy (J)  Calculated Total Impact Energy (kt)  \n",
       "67               5.600000e+10                                 0.18  "
      ]
     },
     "execution_count": 22,
     "metadata": {},
     "output_type": "execute_result"
    }
   ],
   "source": [
    "max_velocity = data_pandas[VELOCITY].max()\n",
    "data_pandas[data_pandas[VELOCITY] == max_velocity]"
   ]
  },
  {
   "cell_type": "markdown",
   "metadata": {},
   "source": [
    "#### Min:"
   ]
  },
  {
   "cell_type": "code",
   "execution_count": 23,
   "metadata": {
    "scrolled": false
   },
   "outputs": [
    {
     "data": {
      "text/html": [
       "<div>\n",
       "<style scoped>\n",
       "    .dataframe tbody tr th:only-of-type {\n",
       "        vertical-align: middle;\n",
       "    }\n",
       "\n",
       "    .dataframe tbody tr th {\n",
       "        vertical-align: top;\n",
       "    }\n",
       "\n",
       "    .dataframe thead th {\n",
       "        text-align: right;\n",
       "    }\n",
       "</style>\n",
       "<table border=\"1\" class=\"dataframe\">\n",
       "  <thead>\n",
       "    <tr style=\"text-align: right;\">\n",
       "      <th></th>\n",
       "      <th>Peak Brightness Date/Time (UT)</th>\n",
       "      <th>Latitude (deg.)</th>\n",
       "      <th>Longitude (deg.)</th>\n",
       "      <th>Altitude (km)</th>\n",
       "      <th>Velocity (km/s)</th>\n",
       "      <th>vx</th>\n",
       "      <th>vy</th>\n",
       "      <th>vz</th>\n",
       "      <th>Total Radiated Energy (J)</th>\n",
       "      <th>Calculated Total Impact Energy (kt)</th>\n",
       "    </tr>\n",
       "  </thead>\n",
       "  <tbody>\n",
       "    <tr>\n",
       "      <th>300</th>\n",
       "      <td>2008-07-01 17:40:19</td>\n",
       "      <td>37.1N</td>\n",
       "      <td>115.7W</td>\n",
       "      <td>36.1</td>\n",
       "      <td>9.8</td>\n",
       "      <td>2.8</td>\n",
       "      <td>1.7</td>\n",
       "      <td>-9.2</td>\n",
       "      <td>3.600000e+10</td>\n",
       "      <td>0.12</td>\n",
       "    </tr>\n",
       "  </tbody>\n",
       "</table>\n",
       "</div>"
      ],
      "text/plain": [
       "    Peak Brightness Date/Time (UT) Latitude (deg.) Longitude (deg.)  \\\n",
       "300            2008-07-01 17:40:19           37.1N           115.7W   \n",
       "\n",
       "     Altitude (km)  Velocity (km/s)   vx   vy   vz  Total Radiated Energy (J)  \\\n",
       "300           36.1              9.8  2.8  1.7 -9.2               3.600000e+10   \n",
       "\n",
       "     Calculated Total Impact Energy (kt)  \n",
       "300                                 0.12  "
      ]
     },
     "execution_count": 23,
     "metadata": {},
     "output_type": "execute_result"
    }
   ],
   "source": [
    "min_velocity = data_pandas[VELOCITY].min()\n",
    "data_pandas[data_pandas[VELOCITY] == min_velocity]"
   ]
  },
  {
   "cell_type": "markdown",
   "metadata": {},
   "source": [
    "### 3)Определите место максимальной концентрации метеоритов:"
   ]
  },
  {
   "cell_type": "code",
   "execution_count": 30,
   "metadata": {},
   "outputs": [
    {
     "data": {
      "application/vnd.jupyter.widget-view+json": {
       "model_id": "9cc74c0f0ef2419ab64e7563d570ec5e",
       "version_major": 2,
       "version_minor": 0
      },
      "text/html": [
       "<p>Failed to display Jupyter Widget of type <code>Figure</code>.</p>\n",
       "<p>\n",
       "  If you're reading this message in Jupyter Notebook or JupyterLab, it may mean\n",
       "  that the widgets JavaScript is still loading. If this message persists, it\n",
       "  likely means that the widgets JavaScript library is either not installed or\n",
       "  not enabled. See the <a href=\"https://ipywidgets.readthedocs.io/en/stable/user_install.html\">Jupyter\n",
       "  Widgets Documentation</a> for setup instructions.\n",
       "</p>\n",
       "<p>\n",
       "  If you're reading this message in another notebook frontend (for example, a static\n",
       "  rendering on GitHub or <a href=\"https://nbviewer.jupyter.org/\">NBViewer</a>),\n",
       "  it may mean that your frontend doesn't currently support widgets.\n",
       "</p>\n"
      ],
      "text/plain": [
       "Figure(layout=FigureLayout(height='420px'))"
      ]
     },
     "metadata": {},
     "output_type": "display_data"
    }
   ],
   "source": [
    "import gmaps\n",
    "import gmaps.datasets\n",
    "\n",
    "gmaps.configure(api_key=\"AI...\")\n",
    "\n",
    "max_count = 0\n",
    "accuracy = 3\n",
    "side_of_the_square = 20\n",
    "center = side_of_the_square / 2.0\n",
    "\n",
    "def get_latitude(self):\n",
    "    coord = str(self[LATITUDE])\n",
    "    direction = coord[-1]\n",
    "    if direction == 'S':\n",
    "        return float('-' + coord[:-1])\n",
    "    return float(coord[:-1])\n",
    "\n",
    "def get_longitude(self):\n",
    "    coord = str(self[LONGITUDE])\n",
    "    direction = coord[-1]\n",
    "    if direction == 'W':\n",
    "        return float('-' + coord[:-1])\n",
    "    return float(coord[:-1])\n",
    "\n",
    "data_frame = data_pandas[[LATITUDE, LONGITUDE]].dropna(subset=[LATITUDE, LONGITUDE])\n",
    "data_frame[LATITUDE] = data_frame.apply(get_latitude, axis=1)\n",
    "data_frame[LONGITUDE] = data_frame.apply(get_longitude, axis=1)\n",
    "\n",
    "result = []\n",
    "coords = [[]]\n",
    "for i in np.arange(data_frame[LATITUDE].min(), data_frame[LATITUDE].max(), accuracy):\n",
    "    for j in np.arange(data_frame[LONGITUDE].min(), data_frame[LONGITUDE].max(), accuracy):\n",
    "        max_df = data_frame[(data_frame[LATITUDE] <= i + center) &\n",
    "                            (data_frame[LATITUDE] > i - center) &\n",
    "                            (data_frame[LONGITUDE] <= j + center) &\n",
    "                            (data_frame[LONGITUDE] > j - center)]\n",
    "        count = max_df.shape[0]\n",
    "        if  count > max_count:\n",
    "            max_count = count\n",
    "            result.clear()\n",
    "            coords.clear()\n",
    "            coords.append([(i + center, j + center), (i - center, j + center), (i - center, j - center), (i + center, j - center)])\n",
    "            result.append(max_df)\n",
    "        elif max_count == count:\n",
    "            result.append(max_df)\n",
    "            coords.append([(i + center, j + center), (i - center, j + center), (i - center, j - center), (i + center, j - center)])\n",
    "\n",
    "df = pd.concat(result)\n",
    "\n",
    "df1 = data_frame[(~data_frame[LATITUDE].isin(df[LATITUDE]))&(~data_frame[LONGITUDE].isin(df[LONGITUDE]))]\n",
    "\n",
    "fig = gmaps.figure()\n",
    "layer1 = gmaps.symbol_layer(df, fill_color=\"red\", stroke_color=\"red\", scale=2)\n",
    "layer2 = gmaps.symbol_layer(df1, fill_color=\"blue\", stroke_color=\"blue\", scale=2)\n",
    "for i in range(len(result)):\n",
    "    fig.add_layer(gmaps.drawing_layer(features=[gmaps.Polygon(coords[i])], show_controls=False))\n",
    "fig.add_layer(layer1)\n",
    "fig.add_layer(layer2)\n",
    "fig"
   ]
  },
  {
   "cell_type": "markdown",
   "metadata": {},
   "source": [
    "### 4)Определите время года, в которое вероятность появления метеоритов максимальна. Постройте график:"
   ]
  },
  {
   "cell_type": "code",
   "execution_count": 31,
   "metadata": {},
   "outputs": [
    {
     "name": "stdout",
     "output_type": "stream",
     "text": [
      "Season: Autumn(probability = 0.253129346314)\n"
     ]
    },
    {
     "data": {
      "image/png": "[encoded data removed]",
      "text/plain": [
       "<matplotlib.figure.Figure at 0x1ad3f173e48>"
      ]
     },
     "metadata": {},
     "output_type": "display_data"
    }
   ],
   "source": [
    "def get_month(self):\n",
    "    return str(self[PEAK_BRIGHTNESS])[5:7]\n",
    "\n",
    "data_frame = data_pandas.copy()\n",
    "data_frame[PEAK_BRIGHTNESS] = data_frame.apply(get_month, axis=1)\n",
    "data_frame = data_frame.groupby(PEAK_BRIGHTNESS)[[PEAK_BRIGHTNESS]].count()\n",
    "seasons = ['Winter', 'Spring', 'Summer', 'Autumn']\n",
    "values = [(data_frame.iloc[0, 0] + data_frame.iloc[1, 0] + data_frame.iloc[11, 0]) / len(data_pandas),\n",
    "         (data_frame.iloc[2, 0] + data_frame.iloc[3, 0] + data_frame.iloc[4, 0]) / len(data_pandas),\n",
    "         (data_frame.iloc[5, 0] + data_frame.iloc[6, 0] + data_frame.iloc[7, 0]) / len(data_pandas),\n",
    "         (data_frame.iloc[8, 0] + data_frame.iloc[9, 0] + data_frame.iloc[10, 0]) / len(data_pandas)]\n",
    "print(\"Season: \" + str(seasons[values.index(max(values))]) + \"(probability = \" + str(max(values)) + \")\")\n",
    "helper = pd.DataFrame(dict([('Seasons', seasons), ('Values', values)]))\n",
    "helper.plot(kind='bar', x='Seasons', ylim=((min(values)) * 0.99, max(values) * 1.01), legend=None)\n",
    "plt.show()"
   ]
  },
  {
   "cell_type": "markdown",
   "metadata": {},
   "source": [
    "### 5)Удалите строки данных, в которых для метеоритов не указана скорость:"
   ]
  },
  {
   "cell_type": "code",
   "execution_count": 32,
   "metadata": {},
   "outputs": [
    {
     "data": {
      "text/plain": [
       "(157, 10)"
      ]
     },
     "execution_count": 32,
     "metadata": {},
     "output_type": "execute_result"
    }
   ],
   "source": [
    "data_frame = data_pandas.copy()\n",
    "data_frame = data_frame.dropna(subset=[VELOCITY])\n",
    "data_frame.shape"
   ]
  },
  {
   "cell_type": "markdown",
   "metadata": {},
   "source": [
    "### 6)Построить график, на котором по оси ОХ отложено время суток, по OY – частота появления метеоритов:"
   ]
  },
  {
   "cell_type": "code",
   "execution_count": 33,
   "metadata": {},
   "outputs": [
    {
     "data": {
      "image/png": "[encoded data removed]",
      "text/plain": [
       "<matplotlib.figure.Figure at 0x1ad3f226dd8>"
      ]
     },
     "metadata": {},
     "output_type": "display_data"
    }
   ],
   "source": [
    "def get_hour(self):\n",
    "    return str(self[PEAK_BRIGHTNESS])[11:13]\n",
    "def calculate_frequency(self):\n",
    "    return int(self[PEAK_BRIGHTNESS])/len(data_frame)\n",
    "\n",
    "data_frame = data_pandas.copy()\n",
    "data_frame[PEAK_BRIGHTNESS] = data_frame.apply(get_hour,axis=1)\n",
    "data_frame = data_frame.groupby(PEAK_BRIGHTNESS)[[PEAK_BRIGHTNESS]].count()\n",
    "data_frame[PEAK_BRIGHTNESS] = data_frame.apply(calculate_frequency,axis=1)\n",
    "data_frame.plot(kind='bar', legend=None)\n",
    "plt.show()"
   ]
  },
  {
   "cell_type": "markdown",
   "metadata": {},
   "source": [
    "### 7)Заполните строки в которых для метеоритов не указана скорость:"
   ]
  },
  {
   "cell_type": "code",
   "execution_count": 34,
   "metadata": {},
   "outputs": [
    {
     "data": {
      "text/plain": [
       "False"
      ]
     },
     "execution_count": 34,
     "metadata": {},
     "output_type": "execute_result"
    }
   ],
   "source": [
    "data_frame = data_pandas.copy()\n",
    "low_value = data_frame[VELOCITY].min()\n",
    "high_value = data_frame[VELOCITY].max()\n",
    "data_frame[VELOCITY] = data_frame[VELOCITY].fillna(np.random.uniform(low=low_value,high=high_value))\n",
    "data_frame[VELOCITY].isnull().any()"
   ]
  },
  {
   "cell_type": "markdown",
   "metadata": {},
   "source": [
    "### 8)Определите месяц года, для которого появление метеоритов наиболее вероятно (постройте необходимые графики):"
   ]
  },
  {
   "cell_type": "code",
   "execution_count": 35,
   "metadata": {},
   "outputs": [
    {
     "name": "stdout",
     "output_type": "stream",
     "text": [
      "Minimum: month #10\n"
     ]
    },
    {
     "data": {
      "image/png": "[encoded data removed]",
      "text/plain": [
       "<matplotlib.figure.Figure at 0x1ad3f248c50>"
      ]
     },
     "metadata": {},
     "output_type": "display_data"
    }
   ],
   "source": [
    "def get_month(self):\n",
    "    return str(self[PEAK_BRIGHTNESS])[5:7]\n",
    "\n",
    "data_frame = data_pandas.copy()\n",
    "data_frame[PEAK_BRIGHTNESS] = data_pandas.apply(get_month,axis=1)\n",
    "data_frame = data_frame.groupby(PEAK_BRIGHTNESS)[[PEAK_BRIGHTNESS]].count()\n",
    "data_frame = data_frame.sort_values(by=PEAK_BRIGHTNESS,ascending=False)\n",
    "print('Minimum: month #' + str(data_frame.index[0]))\n",
    "data_frame.plot(kind='bar', legend=None, ylim=(min(data_frame[PEAK_BRIGHTNESS] * 0.7),max(data_frame[PEAK_BRIGHTNESS] * 1.1)))\n",
    "plt.show()"
   ]
  },
  {
   "cell_type": "markdown",
   "metadata": {},
   "source": [
    "### 9)Вычислите корреляцию Пирсона и Спирмена между признаками Altitude и Total Radiated Energy. Сравните полученные величины корреляции. Постройте гистограммы для указанных признаков. Оцените значение p-value.:"
   ]
  },
  {
   "cell_type": "code",
   "execution_count": 36,
   "metadata": {},
   "outputs": [
    {
     "name": "stdout",
     "output_type": "stream",
     "text": [
      "Pearson:\n",
      "Correlation -  -0.0857865652582\n",
      "p-value -  0.133682698787\n",
      "\n",
      "Spearman:\n",
      "Correlation -  -0.126710419392\n",
      "p-value -  0.0264157286107\n"
     ]
    }
   ],
   "source": [
    "data_frame = data_pandas.dropna(subset=[ALTITUDE, TOTAL_RADIATED_ENERGY])\n",
    "\n",
    "pearson_correlation, pearson_pvalue = stats.pearsonr(data_frame[ALTITUDE], data_frame[TOTAL_RADIATED_ENERGY])\n",
    "print('Pearson:')\n",
    "print('Correlation - ', pearson_correlation)\n",
    "print('p-value - ', pearson_pvalue)\n",
    "\n",
    "spearman_correlation, spearman_pvalue = stats.spearmanr(data_frame[ALTITUDE], data_frame[TOTAL_RADIATED_ENERGY])\n",
    "print('\\nSpearman:')\n",
    "print('Correlation - ', spearman_correlation)\n",
    "print('p-value - ', spearman_pvalue)"
   ]
  },
  {
   "cell_type": "code",
   "execution_count": 37,
   "metadata": {},
   "outputs": [
    {
     "data": {
      "image/png": "[encoded data removed]",
      "text/plain": [
       "<matplotlib.figure.Figure at 0x1ad3bd43cf8>"
      ]
     },
     "metadata": {},
     "output_type": "display_data"
    }
   ],
   "source": [
    "data_frame[ALTITUDE].plot(kind='hist', legend=None, ylim=(min(data_frame[ALTITUDE] * 0.2),max(data_frame[ALTITUDE] * 1.3)))\n",
    "plt.show()"
   ]
  },
  {
   "cell_type": "code",
   "execution_count": 38,
   "metadata": {},
   "outputs": [
    {
     "data": {
      "image/png": "[encoded data removed]",
      "text/plain": [
       "<matplotlib.figure.Figure at 0x1ad3f29b438>"
      ]
     },
     "metadata": {},
     "output_type": "display_data"
    }
   ],
   "source": [
    "data_frame[TOTAL_RADIATED_ENERGY].plot(kind='hist',\n",
    "        legend=None, \n",
    "        ylim=(min(data_frame[TOTAL_RADIATED_ENERGY] * 0.000000000001),max(data_frame[TOTAL_RADIATED_ENERGY] * 0.000000000001)))\n",
    "plt.show()"
   ]
  }
 ],
 "metadata": {
  "kernelspec": {
   "display_name": "Python 3",
   "language": "python",
   "name": "python3"
  },
  "language_info": {
   "codemirror_mode": {
    "name": "ipython",
    "version": 3
   },
   "file_extension": ".py",
   "mimetype": "text/x-python",
   "name": "python",
   "nbconvert_exporter": "python",
   "pygments_lexer": "ipython3",
   "version": "3.5.4"
  }
 },
 "nbformat": 4,
 "nbformat_minor": 2
}
